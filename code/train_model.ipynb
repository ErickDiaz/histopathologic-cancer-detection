{
 "cells": [
  {
   "cell_type": "markdown",
   "metadata": {},
   "source": [
    "# Training"
   ]
  },
  {
   "cell_type": "code",
   "execution_count": 22,
   "metadata": {},
   "outputs": [],
   "source": [
    "import pandas as pd\n",
    "import numpy as np\n",
    "import torch\n",
    "from torch.utils import data\n",
    "import torchvision\n",
    "from torchvision import transforms\n",
    "from skimage.io import imread\n",
    "from sklearn.model_selection import train_test_split\n",
    "from sklearn.metrics import precision_score, recall_score\n",
    "from tqdm import tqdm\n",
    "import random"
   ]
  },
  {
   "cell_type": "code",
   "execution_count": 23,
   "metadata": {},
   "outputs": [],
   "source": [
    "train_path = \"../data/train/\""
   ]
  },
  {
   "cell_type": "markdown",
   "metadata": {},
   "source": [
    "### Tansformation"
   ]
  },
  {
   "cell_type": "code",
   "execution_count": 24,
   "metadata": {},
   "outputs": [],
   "source": [
    "transform = transforms.Compose([\n",
    "    transforms.ToPILImage(),\n",
    "    transforms.Resize(256),\n",
    "    transforms.CenterCrop(224),\n",
    "    transforms.ToTensor(),\n",
    "    transforms.Normalize(mean=[0.485, 0.456, 0.406], std=[0.229, 0.224, 0.225])\n",
    "])"
   ]
  },
  {
   "cell_type": "markdown",
   "metadata": {},
   "source": [
    "### Load Data"
   ]
  },
  {
   "cell_type": "code",
   "execution_count": 25,
   "metadata": {},
   "outputs": [],
   "source": [
    "train_labels = pd.read_csv(\"../data/train_labels.csv\")"
   ]
  },
  {
   "cell_type": "code",
   "execution_count": 26,
   "metadata": {},
   "outputs": [],
   "source": [
    "train_labels['img_path'] = train_path + train_labels[['id']] + '.tif'"
   ]
  },
  {
   "cell_type": "code",
   "execution_count": 27,
   "metadata": {},
   "outputs": [
    {
     "data": {
      "text/html": [
       "<div>\n",
       "<style scoped>\n",
       "    .dataframe tbody tr th:only-of-type {\n",
       "        vertical-align: middle;\n",
       "    }\n",
       "\n",
       "    .dataframe tbody tr th {\n",
       "        vertical-align: top;\n",
       "    }\n",
       "\n",
       "    .dataframe thead th {\n",
       "        text-align: right;\n",
       "    }\n",
       "</style>\n",
       "<table border=\"1\" class=\"dataframe\">\n",
       "  <thead>\n",
       "    <tr style=\"text-align: right;\">\n",
       "      <th></th>\n",
       "      <th>id</th>\n",
       "      <th>label</th>\n",
       "      <th>img_path</th>\n",
       "    </tr>\n",
       "  </thead>\n",
       "  <tbody>\n",
       "    <tr>\n",
       "      <th>0</th>\n",
       "      <td>f38a6374c348f90b587e046aac6079959adf3835</td>\n",
       "      <td>0</td>\n",
       "      <td>../data/train/f38a6374c348f90b587e046aac607995...</td>\n",
       "    </tr>\n",
       "    <tr>\n",
       "      <th>1</th>\n",
       "      <td>c18f2d887b7ae4f6742ee445113fa1aef383ed77</td>\n",
       "      <td>1</td>\n",
       "      <td>../data/train/c18f2d887b7ae4f6742ee445113fa1ae...</td>\n",
       "    </tr>\n",
       "    <tr>\n",
       "      <th>2</th>\n",
       "      <td>755db6279dae599ebb4d39a9123cce439965282d</td>\n",
       "      <td>0</td>\n",
       "      <td>../data/train/755db6279dae599ebb4d39a9123cce43...</td>\n",
       "    </tr>\n",
       "    <tr>\n",
       "      <th>3</th>\n",
       "      <td>bc3f0c64fb968ff4a8bd33af6971ecae77c75e08</td>\n",
       "      <td>0</td>\n",
       "      <td>../data/train/bc3f0c64fb968ff4a8bd33af6971ecae...</td>\n",
       "    </tr>\n",
       "    <tr>\n",
       "      <th>4</th>\n",
       "      <td>068aba587a4950175d04c680d38943fd488d6a9d</td>\n",
       "      <td>0</td>\n",
       "      <td>../data/train/068aba587a4950175d04c680d38943fd...</td>\n",
       "    </tr>\n",
       "  </tbody>\n",
       "</table>\n",
       "</div>"
      ],
      "text/plain": [
       "                                         id  label  \\\n",
       "0  f38a6374c348f90b587e046aac6079959adf3835      0   \n",
       "1  c18f2d887b7ae4f6742ee445113fa1aef383ed77      1   \n",
       "2  755db6279dae599ebb4d39a9123cce439965282d      0   \n",
       "3  bc3f0c64fb968ff4a8bd33af6971ecae77c75e08      0   \n",
       "4  068aba587a4950175d04c680d38943fd488d6a9d      0   \n",
       "\n",
       "                                            img_path  \n",
       "0  ../data/train/f38a6374c348f90b587e046aac607995...  \n",
       "1  ../data/train/c18f2d887b7ae4f6742ee445113fa1ae...  \n",
       "2  ../data/train/755db6279dae599ebb4d39a9123cce43...  \n",
       "3  ../data/train/bc3f0c64fb968ff4a8bd33af6971ecae...  \n",
       "4  ../data/train/068aba587a4950175d04c680d38943fd...  "
      ]
     },
     "execution_count": 27,
     "metadata": {},
     "output_type": "execute_result"
    }
   ],
   "source": [
    "train_labels.head()"
   ]
  },
  {
   "cell_type": "code",
   "execution_count": 28,
   "metadata": {},
   "outputs": [],
   "source": [
    "total_images = train_labels.shape[0]"
   ]
  },
  {
   "cell_type": "markdown",
   "metadata": {},
   "source": [
    "#### Train and Validation Data"
   ]
  },
  {
   "cell_type": "code",
   "execution_count": 29,
   "metadata": {},
   "outputs": [],
   "source": [
    "train_index, validation_index = train_test_split(train_labels.index, test_size=0.05)"
   ]
  },
  {
   "cell_type": "code",
   "execution_count": 30,
   "metadata": {},
   "outputs": [
    {
     "name": "stdout",
     "output_type": "stream",
     "text": [
      "(209023,)\n",
      "(11002,)\n"
     ]
    }
   ],
   "source": [
    "print(train_index.shape)\n",
    "print(validation_index.shape)"
   ]
  },
  {
   "cell_type": "markdown",
   "metadata": {},
   "source": [
    "### Pytorch Data Generator"
   ]
  },
  {
   "cell_type": "code",
   "execution_count": 31,
   "metadata": {},
   "outputs": [],
   "source": [
    "class DataGenerator(data.Dataset):\n",
    "    def __init__(self, dataset, transform):\n",
    "        self.dataset = dataset\n",
    "        self.transform = transform\n",
    "        \n",
    "    def __len__(self):\n",
    "        return self.dataset.shape[0]\n",
    "    \n",
    "    def __getitem__(self, index):\n",
    "        label = self.dataset['label'][index]\n",
    "        \n",
    "        img_raw = imread(self.dataset['img_path'][index])\n",
    "        img = self.transform(img_raw)\n",
    "        \n",
    "        return img, label"
   ]
  },
  {
   "cell_type": "code",
   "execution_count": null,
   "metadata": {},
   "outputs": [],
   "source": [
    "class DataGenerator_test(data.Dataset):\n",
    "    def __init__(self, dataset, transform):\n",
    "        self.dataset = dataset\n",
    "        self.transform = transform\n",
    "        \n",
    "    def __len__(self):\n",
    "        return self.dataset.shape[0]\n",
    "    \n",
    "    def __getitem__(self, index):\n",
    "        label = self.dataset['label'][index]\n",
    "        \n",
    "        img_raw = imread(self.dataset['img_path'][index])\n",
    "        img = self.transform(img_raw)\n",
    "        \n",
    "        img_id = self.dataset['id'][index]\n",
    "        return img, label, img_id"
   ]
  },
  {
   "cell_type": "markdown",
   "metadata": {},
   "source": [
    "## Model"
   ]
  },
  {
   "cell_type": "code",
   "execution_count": 32,
   "metadata": {},
   "outputs": [],
   "source": [
    "model = torchvision.models.resnet34(pretrained=False)"
   ]
  },
  {
   "cell_type": "markdown",
   "metadata": {},
   "source": [
    "## Custom Fully connected Layer"
   ]
  },
  {
   "cell_type": "code",
   "execution_count": 33,
   "metadata": {},
   "outputs": [],
   "source": [
    "model.fc = torch.nn.Sequential(\n",
    "    torch.nn.Linear(in_features=512, out_features=1),\n",
    "    torch.nn.Sigmoid()\n",
    ")"
   ]
  },
  {
   "cell_type": "code",
   "execution_count": 34,
   "metadata": {},
   "outputs": [
    {
     "data": {
      "text/plain": [
       "ResNet(\n",
       "  (conv1): Conv2d(3, 64, kernel_size=(7, 7), stride=(2, 2), padding=(3, 3), bias=False)\n",
       "  (bn1): BatchNorm2d(64, eps=1e-05, momentum=0.1, affine=True, track_running_stats=True)\n",
       "  (relu): ReLU(inplace=True)\n",
       "  (maxpool): MaxPool2d(kernel_size=3, stride=2, padding=1, dilation=1, ceil_mode=False)\n",
       "  (layer1): Sequential(\n",
       "    (0): BasicBlock(\n",
       "      (conv1): Conv2d(64, 64, kernel_size=(3, 3), stride=(1, 1), padding=(1, 1), bias=False)\n",
       "      (bn1): BatchNorm2d(64, eps=1e-05, momentum=0.1, affine=True, track_running_stats=True)\n",
       "      (relu): ReLU(inplace=True)\n",
       "      (conv2): Conv2d(64, 64, kernel_size=(3, 3), stride=(1, 1), padding=(1, 1), bias=False)\n",
       "      (bn2): BatchNorm2d(64, eps=1e-05, momentum=0.1, affine=True, track_running_stats=True)\n",
       "    )\n",
       "    (1): BasicBlock(\n",
       "      (conv1): Conv2d(64, 64, kernel_size=(3, 3), stride=(1, 1), padding=(1, 1), bias=False)\n",
       "      (bn1): BatchNorm2d(64, eps=1e-05, momentum=0.1, affine=True, track_running_stats=True)\n",
       "      (relu): ReLU(inplace=True)\n",
       "      (conv2): Conv2d(64, 64, kernel_size=(3, 3), stride=(1, 1), padding=(1, 1), bias=False)\n",
       "      (bn2): BatchNorm2d(64, eps=1e-05, momentum=0.1, affine=True, track_running_stats=True)\n",
       "    )\n",
       "    (2): BasicBlock(\n",
       "      (conv1): Conv2d(64, 64, kernel_size=(3, 3), stride=(1, 1), padding=(1, 1), bias=False)\n",
       "      (bn1): BatchNorm2d(64, eps=1e-05, momentum=0.1, affine=True, track_running_stats=True)\n",
       "      (relu): ReLU(inplace=True)\n",
       "      (conv2): Conv2d(64, 64, kernel_size=(3, 3), stride=(1, 1), padding=(1, 1), bias=False)\n",
       "      (bn2): BatchNorm2d(64, eps=1e-05, momentum=0.1, affine=True, track_running_stats=True)\n",
       "    )\n",
       "  )\n",
       "  (layer2): Sequential(\n",
       "    (0): BasicBlock(\n",
       "      (conv1): Conv2d(64, 128, kernel_size=(3, 3), stride=(2, 2), padding=(1, 1), bias=False)\n",
       "      (bn1): BatchNorm2d(128, eps=1e-05, momentum=0.1, affine=True, track_running_stats=True)\n",
       "      (relu): ReLU(inplace=True)\n",
       "      (conv2): Conv2d(128, 128, kernel_size=(3, 3), stride=(1, 1), padding=(1, 1), bias=False)\n",
       "      (bn2): BatchNorm2d(128, eps=1e-05, momentum=0.1, affine=True, track_running_stats=True)\n",
       "      (downsample): Sequential(\n",
       "        (0): Conv2d(64, 128, kernel_size=(1, 1), stride=(2, 2), bias=False)\n",
       "        (1): BatchNorm2d(128, eps=1e-05, momentum=0.1, affine=True, track_running_stats=True)\n",
       "      )\n",
       "    )\n",
       "    (1): BasicBlock(\n",
       "      (conv1): Conv2d(128, 128, kernel_size=(3, 3), stride=(1, 1), padding=(1, 1), bias=False)\n",
       "      (bn1): BatchNorm2d(128, eps=1e-05, momentum=0.1, affine=True, track_running_stats=True)\n",
       "      (relu): ReLU(inplace=True)\n",
       "      (conv2): Conv2d(128, 128, kernel_size=(3, 3), stride=(1, 1), padding=(1, 1), bias=False)\n",
       "      (bn2): BatchNorm2d(128, eps=1e-05, momentum=0.1, affine=True, track_running_stats=True)\n",
       "    )\n",
       "    (2): BasicBlock(\n",
       "      (conv1): Conv2d(128, 128, kernel_size=(3, 3), stride=(1, 1), padding=(1, 1), bias=False)\n",
       "      (bn1): BatchNorm2d(128, eps=1e-05, momentum=0.1, affine=True, track_running_stats=True)\n",
       "      (relu): ReLU(inplace=True)\n",
       "      (conv2): Conv2d(128, 128, kernel_size=(3, 3), stride=(1, 1), padding=(1, 1), bias=False)\n",
       "      (bn2): BatchNorm2d(128, eps=1e-05, momentum=0.1, affine=True, track_running_stats=True)\n",
       "    )\n",
       "    (3): BasicBlock(\n",
       "      (conv1): Conv2d(128, 128, kernel_size=(3, 3), stride=(1, 1), padding=(1, 1), bias=False)\n",
       "      (bn1): BatchNorm2d(128, eps=1e-05, momentum=0.1, affine=True, track_running_stats=True)\n",
       "      (relu): ReLU(inplace=True)\n",
       "      (conv2): Conv2d(128, 128, kernel_size=(3, 3), stride=(1, 1), padding=(1, 1), bias=False)\n",
       "      (bn2): BatchNorm2d(128, eps=1e-05, momentum=0.1, affine=True, track_running_stats=True)\n",
       "    )\n",
       "  )\n",
       "  (layer3): Sequential(\n",
       "    (0): BasicBlock(\n",
       "      (conv1): Conv2d(128, 256, kernel_size=(3, 3), stride=(2, 2), padding=(1, 1), bias=False)\n",
       "      (bn1): BatchNorm2d(256, eps=1e-05, momentum=0.1, affine=True, track_running_stats=True)\n",
       "      (relu): ReLU(inplace=True)\n",
       "      (conv2): Conv2d(256, 256, kernel_size=(3, 3), stride=(1, 1), padding=(1, 1), bias=False)\n",
       "      (bn2): BatchNorm2d(256, eps=1e-05, momentum=0.1, affine=True, track_running_stats=True)\n",
       "      (downsample): Sequential(\n",
       "        (0): Conv2d(128, 256, kernel_size=(1, 1), stride=(2, 2), bias=False)\n",
       "        (1): BatchNorm2d(256, eps=1e-05, momentum=0.1, affine=True, track_running_stats=True)\n",
       "      )\n",
       "    )\n",
       "    (1): BasicBlock(\n",
       "      (conv1): Conv2d(256, 256, kernel_size=(3, 3), stride=(1, 1), padding=(1, 1), bias=False)\n",
       "      (bn1): BatchNorm2d(256, eps=1e-05, momentum=0.1, affine=True, track_running_stats=True)\n",
       "      (relu): ReLU(inplace=True)\n",
       "      (conv2): Conv2d(256, 256, kernel_size=(3, 3), stride=(1, 1), padding=(1, 1), bias=False)\n",
       "      (bn2): BatchNorm2d(256, eps=1e-05, momentum=0.1, affine=True, track_running_stats=True)\n",
       "    )\n",
       "    (2): BasicBlock(\n",
       "      (conv1): Conv2d(256, 256, kernel_size=(3, 3), stride=(1, 1), padding=(1, 1), bias=False)\n",
       "      (bn1): BatchNorm2d(256, eps=1e-05, momentum=0.1, affine=True, track_running_stats=True)\n",
       "      (relu): ReLU(inplace=True)\n",
       "      (conv2): Conv2d(256, 256, kernel_size=(3, 3), stride=(1, 1), padding=(1, 1), bias=False)\n",
       "      (bn2): BatchNorm2d(256, eps=1e-05, momentum=0.1, affine=True, track_running_stats=True)\n",
       "    )\n",
       "    (3): BasicBlock(\n",
       "      (conv1): Conv2d(256, 256, kernel_size=(3, 3), stride=(1, 1), padding=(1, 1), bias=False)\n",
       "      (bn1): BatchNorm2d(256, eps=1e-05, momentum=0.1, affine=True, track_running_stats=True)\n",
       "      (relu): ReLU(inplace=True)\n",
       "      (conv2): Conv2d(256, 256, kernel_size=(3, 3), stride=(1, 1), padding=(1, 1), bias=False)\n",
       "      (bn2): BatchNorm2d(256, eps=1e-05, momentum=0.1, affine=True, track_running_stats=True)\n",
       "    )\n",
       "    (4): BasicBlock(\n",
       "      (conv1): Conv2d(256, 256, kernel_size=(3, 3), stride=(1, 1), padding=(1, 1), bias=False)\n",
       "      (bn1): BatchNorm2d(256, eps=1e-05, momentum=0.1, affine=True, track_running_stats=True)\n",
       "      (relu): ReLU(inplace=True)\n",
       "      (conv2): Conv2d(256, 256, kernel_size=(3, 3), stride=(1, 1), padding=(1, 1), bias=False)\n",
       "      (bn2): BatchNorm2d(256, eps=1e-05, momentum=0.1, affine=True, track_running_stats=True)\n",
       "    )\n",
       "    (5): BasicBlock(\n",
       "      (conv1): Conv2d(256, 256, kernel_size=(3, 3), stride=(1, 1), padding=(1, 1), bias=False)\n",
       "      (bn1): BatchNorm2d(256, eps=1e-05, momentum=0.1, affine=True, track_running_stats=True)\n",
       "      (relu): ReLU(inplace=True)\n",
       "      (conv2): Conv2d(256, 256, kernel_size=(3, 3), stride=(1, 1), padding=(1, 1), bias=False)\n",
       "      (bn2): BatchNorm2d(256, eps=1e-05, momentum=0.1, affine=True, track_running_stats=True)\n",
       "    )\n",
       "  )\n",
       "  (layer4): Sequential(\n",
       "    (0): BasicBlock(\n",
       "      (conv1): Conv2d(256, 512, kernel_size=(3, 3), stride=(2, 2), padding=(1, 1), bias=False)\n",
       "      (bn1): BatchNorm2d(512, eps=1e-05, momentum=0.1, affine=True, track_running_stats=True)\n",
       "      (relu): ReLU(inplace=True)\n",
       "      (conv2): Conv2d(512, 512, kernel_size=(3, 3), stride=(1, 1), padding=(1, 1), bias=False)\n",
       "      (bn2): BatchNorm2d(512, eps=1e-05, momentum=0.1, affine=True, track_running_stats=True)\n",
       "      (downsample): Sequential(\n",
       "        (0): Conv2d(256, 512, kernel_size=(1, 1), stride=(2, 2), bias=False)\n",
       "        (1): BatchNorm2d(512, eps=1e-05, momentum=0.1, affine=True, track_running_stats=True)\n",
       "      )\n",
       "    )\n",
       "    (1): BasicBlock(\n",
       "      (conv1): Conv2d(512, 512, kernel_size=(3, 3), stride=(1, 1), padding=(1, 1), bias=False)\n",
       "      (bn1): BatchNorm2d(512, eps=1e-05, momentum=0.1, affine=True, track_running_stats=True)\n",
       "      (relu): ReLU(inplace=True)\n",
       "      (conv2): Conv2d(512, 512, kernel_size=(3, 3), stride=(1, 1), padding=(1, 1), bias=False)\n",
       "      (bn2): BatchNorm2d(512, eps=1e-05, momentum=0.1, affine=True, track_running_stats=True)\n",
       "    )\n",
       "    (2): BasicBlock(\n",
       "      (conv1): Conv2d(512, 512, kernel_size=(3, 3), stride=(1, 1), padding=(1, 1), bias=False)\n",
       "      (bn1): BatchNorm2d(512, eps=1e-05, momentum=0.1, affine=True, track_running_stats=True)\n",
       "      (relu): ReLU(inplace=True)\n",
       "      (conv2): Conv2d(512, 512, kernel_size=(3, 3), stride=(1, 1), padding=(1, 1), bias=False)\n",
       "      (bn2): BatchNorm2d(512, eps=1e-05, momentum=0.1, affine=True, track_running_stats=True)\n",
       "    )\n",
       "  )\n",
       "  (avgpool): AdaptiveAvgPool2d(output_size=(1, 1))\n",
       "  (fc): Sequential(\n",
       "    (0): Linear(in_features=512, out_features=1, bias=True)\n",
       "    (1): Sigmoid()\n",
       "  )\n",
       ")"
      ]
     },
     "execution_count": 34,
     "metadata": {},
     "output_type": "execute_result"
    }
   ],
   "source": [
    "model"
   ]
  },
  {
   "cell_type": "markdown",
   "metadata": {},
   "source": [
    "## Hyperparameters"
   ]
  },
  {
   "cell_type": "code",
   "execution_count": 35,
   "metadata": {},
   "outputs": [],
   "source": [
    "epochs = 2\n",
    "batch_size = 64"
   ]
  },
  {
   "cell_type": "markdown",
   "metadata": {},
   "source": [
    "## Data Loaders"
   ]
  },
  {
   "cell_type": "code",
   "execution_count": 36,
   "metadata": {},
   "outputs": [],
   "source": [
    "train_data = DataGenerator(train_labels, transform=transform)"
   ]
  },
  {
   "cell_type": "code",
   "execution_count": 37,
   "metadata": {},
   "outputs": [],
   "source": [
    "train_loader = data.DataLoader(train_data, batch_size=batch_size,\n",
    "                              sampler= data.SubsetRandomSampler(train_index))"
   ]
  },
  {
   "cell_type": "code",
   "execution_count": 38,
   "metadata": {},
   "outputs": [],
   "source": [
    "valid_loader = data.DataLoader(train_data, batch_size=batch_size,\n",
    "                              sampler= data.SubsetRandomSampler(validation_index))"
   ]
  },
  {
   "cell_type": "code",
   "execution_count": 39,
   "metadata": {},
   "outputs": [
    {
     "name": "stdout",
     "output_type": "stream",
     "text": [
      "172\n",
      "3266\n"
     ]
    }
   ],
   "source": [
    "print(len(valid_loader))\n",
    "print(len(train_loader))"
   ]
  },
  {
   "cell_type": "markdown",
   "metadata": {},
   "source": [
    "### Train Model"
   ]
  },
  {
   "cell_type": "code",
   "execution_count": 40,
   "metadata": {},
   "outputs": [
    {
     "name": "stdout",
     "output_type": "stream",
     "text": [
      "Epoch 1/2.. Batch 1.. Train loss: 0.742.. Train acc: 0.312.. Train avg precision: 0.312.. Train avg recall: 1.000.. \n"
     ]
    },
    {
     "name": "stderr",
     "output_type": "stream",
     "text": [
      "/home/erick/anaconda3/envs/histopathologic_cancer/lib/python3.8/site-packages/sklearn/metrics/_classification.py:1272: UndefinedMetricWarning: Precision is ill-defined and being set to 0.0 due to no predicted samples. Use `zero_division` parameter to control this behavior.\n",
      "  _warn_prf(average, modifier, msg_start, len(result))\n"
     ]
    },
    {
     "name": "stdout",
     "output_type": "stream",
     "text": [
      "Epoch 1/2.. Valid loss: 11.121.. Valid avg presision: 0.000.. Valid avg recall: 0.000.. \n",
      "Epoch 1/2.. Batch 50.. Train loss: 0.575.. Train acc: 0.740.. Train avg precision: 0.696.. Train avg recall: 0.657.. \n",
      "Epoch 1/2.. Valid loss: 1.176.. Valid avg presision: 0.809.. Valid avg recall: 0.475.. \n",
      "Epoch 1/2.. Batch 100.. Train loss: 0.513.. Train acc: 0.765.. Train avg precision: 0.747.. Train avg recall: 0.657.. \n",
      "Epoch 1/2.. Valid loss: 0.440.. Valid avg presision: 0.821.. Valid avg recall: 0.635.. \n",
      "Epoch 1/2.. Batch 150.. Train loss: 0.487.. Train acc: 0.779.. Train avg precision: 0.759.. Train avg recall: 0.682.. \n",
      "Epoch 1/2.. Valid loss: 0.438.. Valid avg presision: 0.750.. Valid avg recall: 0.776.. \n",
      "Epoch 1/2.. Batch 200.. Train loss: 0.469.. Train acc: 0.789.. Train avg precision: 0.769.. Train avg recall: 0.698.. \n",
      "Epoch 1/2.. Valid loss: 0.456.. Valid avg presision: 0.698.. Valid avg recall: 0.831.. \n",
      "Epoch 1/2.. Batch 250.. Train loss: 0.458.. Train acc: 0.795.. Train avg precision: 0.773.. Train avg recall: 0.710.. \n",
      "Epoch 1/2.. Valid loss: 0.437.. Valid avg presision: 0.857.. Valid avg recall: 0.650.. \n",
      "Epoch 1/2.. Batch 300.. Train loss: 0.449.. Train acc: 0.800.. Train avg precision: 0.779.. Train avg recall: 0.717.. \n",
      "Epoch 1/2.. Valid loss: 0.425.. Valid avg presision: 0.814.. Valid avg recall: 0.696.. \n",
      "Epoch 1/2.. Batch 350.. Train loss: 0.442.. Train acc: 0.804.. Train avg precision: 0.781.. Train avg recall: 0.723.. \n",
      "Epoch 1/2.. Valid loss: 0.562.. Valid avg presision: 0.920.. Valid avg recall: 0.387.. \n",
      "Epoch 1/2.. Batch 400.. Train loss: 0.435.. Train acc: 0.806.. Train avg precision: 0.785.. Train avg recall: 0.726.. \n",
      "Epoch 1/2.. Valid loss: 0.502.. Valid avg presision: 0.695.. Valid avg recall: 0.865.. \n",
      "Epoch 1/2.. Batch 450.. Train loss: 0.430.. Train acc: 0.809.. Train avg precision: 0.788.. Train avg recall: 0.728.. \n",
      "Epoch 1/2.. Valid loss: 0.449.. Valid avg presision: 0.773.. Valid avg recall: 0.781.. \n",
      "Epoch 1/2.. Batch 500.. Train loss: 0.427.. Train acc: 0.811.. Train avg precision: 0.792.. Train avg recall: 0.734.. \n",
      "Epoch 1/2.. Valid loss: 0.385.. Valid avg presision: 0.792.. Valid avg recall: 0.790.. \n",
      "Epoch 1/2.. Batch 550.. Train loss: 0.424.. Train acc: 0.812.. Train avg precision: 0.792.. Train avg recall: 0.737.. \n",
      "Epoch 1/2.. Valid loss: 0.377.. Valid avg presision: 0.790.. Valid avg recall: 0.776.. \n",
      "Epoch 1/2.. Batch 600.. Train loss: 0.421.. Train acc: 0.814.. Train avg precision: 0.794.. Train avg recall: 0.738.. \n",
      "Epoch 1/2.. Valid loss: 0.470.. Valid avg presision: 0.851.. Valid avg recall: 0.553.. \n",
      "Epoch 1/2.. Batch 650.. Train loss: 0.418.. Train acc: 0.815.. Train avg precision: 0.796.. Train avg recall: 0.741.. \n",
      "Epoch 1/2.. Valid loss: 0.516.. Valid avg presision: 0.850.. Valid avg recall: 0.451.. \n",
      "Epoch 1/2.. Batch 700.. Train loss: 0.414.. Train acc: 0.818.. Train avg precision: 0.799.. Train avg recall: 0.743.. \n",
      "Epoch 1/2.. Valid loss: 0.371.. Valid avg presision: 0.768.. Valid avg recall: 0.820.. \n",
      "Epoch 1/2.. Batch 750.. Train loss: 0.411.. Train acc: 0.819.. Train avg precision: 0.802.. Train avg recall: 0.745.. \n",
      "Epoch 1/2.. Valid loss: 0.412.. Valid avg presision: 0.756.. Valid avg recall: 0.838.. \n",
      "Epoch 1/2.. Batch 800.. Train loss: 0.407.. Train acc: 0.821.. Train avg precision: 0.803.. Train avg recall: 0.747.. \n",
      "Epoch 1/2.. Valid loss: 0.361.. Valid avg presision: 0.856.. Valid avg recall: 0.728.. \n",
      "Epoch 1/2.. Batch 850.. Train loss: 0.405.. Train acc: 0.822.. Train avg precision: 0.805.. Train avg recall: 0.749.. \n",
      "Epoch 1/2.. Valid loss: 0.369.. Valid avg presision: 0.788.. Valid avg recall: 0.801.. \n",
      "Epoch 1/2.. Batch 900.. Train loss: 0.402.. Train acc: 0.824.. Train avg precision: 0.807.. Train avg recall: 0.752.. \n",
      "Epoch 1/2.. Valid loss: 0.426.. Valid avg presision: 0.828.. Valid avg recall: 0.755.. \n",
      "Epoch 1/2.. Batch 950.. Train loss: 0.400.. Train acc: 0.825.. Train avg precision: 0.809.. Train avg recall: 0.754.. \n",
      "Epoch 1/2.. Valid loss: 0.352.. Valid avg presision: 0.798.. Valid avg recall: 0.808.. \n",
      "Epoch 1/2.. Batch 1000.. Train loss: 0.397.. Train acc: 0.826.. Train avg precision: 0.810.. Train avg recall: 0.756.. \n",
      "Epoch 1/2.. Valid loss: 0.348.. Valid avg presision: 0.817.. Valid avg recall: 0.809.. \n",
      "Epoch 1/2.. Batch 1050.. Train loss: 0.395.. Train acc: 0.827.. Train avg precision: 0.811.. Train avg recall: 0.758.. \n",
      "Epoch 1/2.. Valid loss: 0.341.. Valid avg presision: 0.826.. Valid avg recall: 0.792.. \n",
      "Epoch 1/2.. Batch 1100.. Train loss: 0.392.. Train acc: 0.829.. Train avg precision: 0.813.. Train avg recall: 0.760.. \n",
      "Epoch 1/2.. Valid loss: 0.368.. Valid avg presision: 0.829.. Valid avg recall: 0.770.. \n",
      "Epoch 1/2.. Batch 1150.. Train loss: 0.390.. Train acc: 0.830.. Train avg precision: 0.814.. Train avg recall: 0.761.. \n",
      "Epoch 1/2.. Valid loss: 0.402.. Valid avg presision: 0.759.. Valid avg recall: 0.894.. \n",
      "Epoch 1/2.. Batch 1200.. Train loss: 0.388.. Train acc: 0.831.. Train avg precision: 0.815.. Train avg recall: 0.763.. \n",
      "Epoch 1/2.. Valid loss: 0.388.. Valid avg presision: 0.867.. Valid avg recall: 0.685.. \n",
      "Epoch 1/2.. Batch 1250.. Train loss: 0.385.. Train acc: 0.832.. Train avg precision: 0.817.. Train avg recall: 0.765.. \n",
      "Epoch 1/2.. Valid loss: 0.463.. Valid avg presision: 0.896.. Valid avg recall: 0.656.. \n",
      "Epoch 1/2.. Batch 1300.. Train loss: 0.384.. Train acc: 0.833.. Train avg precision: 0.818.. Train avg recall: 0.767.. \n",
      "Epoch 1/2.. Valid loss: 0.340.. Valid avg presision: 0.804.. Valid avg recall: 0.836.. \n",
      "Epoch 1/2.. Batch 1350.. Train loss: 0.382.. Train acc: 0.834.. Train avg precision: 0.819.. Train avg recall: 0.768.. \n",
      "Epoch 1/2.. Valid loss: 0.322.. Valid avg presision: 0.880.. Valid avg recall: 0.748.. \n",
      "Epoch 1/2.. Batch 1400.. Train loss: 0.380.. Train acc: 0.835.. Train avg precision: 0.820.. Train avg recall: 0.769.. \n",
      "Epoch 1/2.. Valid loss: 0.351.. Valid avg presision: 0.762.. Valid avg recall: 0.870.. \n",
      "Epoch 1/2.. Batch 1450.. Train loss: 0.379.. Train acc: 0.836.. Train avg precision: 0.821.. Train avg recall: 0.770.. \n",
      "Epoch 1/2.. Valid loss: 0.330.. Valid avg presision: 0.814.. Valid avg recall: 0.837.. \n",
      "Epoch 1/2.. Batch 1500.. Train loss: 0.377.. Train acc: 0.837.. Train avg precision: 0.822.. Train avg recall: 0.771.. \n",
      "Epoch 1/2.. Valid loss: 0.349.. Valid avg presision: 0.875.. Valid avg recall: 0.725.. \n",
      "Epoch 1/2.. Batch 1550.. Train loss: 0.375.. Train acc: 0.838.. Train avg precision: 0.823.. Train avg recall: 0.772.. \n",
      "Epoch 1/2.. Valid loss: 0.330.. Valid avg presision: 0.865.. Valid avg recall: 0.761.. \n",
      "Epoch 1/2.. Batch 1600.. Train loss: 0.373.. Train acc: 0.839.. Train avg precision: 0.824.. Train avg recall: 0.774.. \n",
      "Epoch 1/2.. Valid loss: 0.348.. Valid avg presision: 0.909.. Valid avg recall: 0.691.. \n",
      "Epoch 1/2.. Batch 1650.. Train loss: 0.371.. Train acc: 0.840.. Train avg precision: 0.825.. Train avg recall: 0.775.. \n",
      "Epoch 1/2.. Valid loss: 0.481.. Valid avg presision: 0.713.. Valid avg recall: 0.928.. \n",
      "Epoch 1/2.. Batch 1700.. Train loss: 0.369.. Train acc: 0.841.. Train avg precision: 0.827.. Train avg recall: 0.777.. \n",
      "Epoch 1/2.. Valid loss: 0.305.. Valid avg presision: 0.841.. Valid avg recall: 0.821.. \n",
      "Epoch 1/2.. Batch 1750.. Train loss: 0.367.. Train acc: 0.842.. Train avg precision: 0.828.. Train avg recall: 0.778.. \n",
      "Epoch 1/2.. Valid loss: 0.459.. Valid avg presision: 0.726.. Valid avg recall: 0.919.. \n",
      "Epoch 1/2.. Batch 1800.. Train loss: 0.366.. Train acc: 0.842.. Train avg precision: 0.829.. Train avg recall: 0.778.. \n",
      "Epoch 1/2.. Valid loss: 0.373.. Valid avg presision: 0.936.. Valid avg recall: 0.619.. \n",
      "Epoch 1/2.. Batch 1850.. Train loss: 0.365.. Train acc: 0.843.. Train avg precision: 0.830.. Train avg recall: 0.779.. \n",
      "Epoch 1/2.. Valid loss: 0.388.. Valid avg presision: 0.776.. Valid avg recall: 0.881.. \n",
      "Epoch 1/2.. Batch 1900.. Train loss: 0.363.. Train acc: 0.843.. Train avg precision: 0.831.. Train avg recall: 0.780.. \n",
      "Epoch 1/2.. Valid loss: 0.301.. Valid avg presision: 0.903.. Valid avg recall: 0.750.. \n",
      "Epoch 1/2.. Batch 1950.. Train loss: 0.362.. Train acc: 0.844.. Train avg precision: 0.831.. Train avg recall: 0.780.. \n",
      "Epoch 1/2.. Valid loss: 0.371.. Valid avg presision: 0.897.. Valid avg recall: 0.724.. \n",
      "Epoch 1/2.. Batch 2000.. Train loss: 0.360.. Train acc: 0.845.. Train avg precision: 0.832.. Train avg recall: 0.782.. \n",
      "Epoch 1/2.. Valid loss: 0.321.. Valid avg presision: 0.782.. Valid avg recall: 0.902.. \n",
      "Epoch 1/2.. Batch 2050.. Train loss: 0.359.. Train acc: 0.845.. Train avg precision: 0.833.. Train avg recall: 0.783.. \n",
      "Epoch 1/2.. Valid loss: 0.279.. Valid avg presision: 0.886.. Valid avg recall: 0.814.. \n",
      "Epoch 1/2.. Batch 2100.. Train loss: 0.357.. Train acc: 0.846.. Train avg precision: 0.834.. Train avg recall: 0.784.. \n",
      "Epoch 1/2.. Valid loss: 0.322.. Valid avg presision: 0.841.. Valid avg recall: 0.836.. \n",
      "Epoch 1/2.. Batch 2150.. Train loss: 0.356.. Train acc: 0.847.. Train avg precision: 0.835.. Train avg recall: 0.784.. \n",
      "Epoch 1/2.. Valid loss: 0.301.. Valid avg presision: 0.890.. Valid avg recall: 0.782.. \n",
      "Epoch 1/2.. Batch 2200.. Train loss: 0.355.. Train acc: 0.847.. Train avg precision: 0.835.. Train avg recall: 0.785.. \n",
      "Epoch 1/2.. Valid loss: 0.396.. Valid avg presision: 0.898.. Valid avg recall: 0.688.. \n",
      "Epoch 1/2.. Batch 2250.. Train loss: 0.353.. Train acc: 0.848.. Train avg precision: 0.836.. Train avg recall: 0.786.. \n",
      "Epoch 1/2.. Valid loss: 0.328.. Valid avg presision: 0.888.. Valid avg recall: 0.718.. \n",
      "Epoch 1/2.. Batch 2300.. Train loss: 0.351.. Train acc: 0.849.. Train avg precision: 0.837.. Train avg recall: 0.787.. \n",
      "Epoch 1/2.. Valid loss: 0.397.. Valid avg presision: 0.735.. Valid avg recall: 0.920.. \n",
      "Epoch 1/2.. Batch 2350.. Train loss: 0.350.. Train acc: 0.849.. Train avg precision: 0.838.. Train avg recall: 0.788.. \n",
      "Epoch 1/2.. Valid loss: 0.438.. Valid avg presision: 0.692.. Valid avg recall: 0.945.. \n",
      "Epoch 1/2.. Batch 2400.. Train loss: 0.348.. Train acc: 0.850.. Train avg precision: 0.839.. Train avg recall: 0.789.. \n",
      "Epoch 1/2.. Valid loss: 0.292.. Valid avg presision: 0.862.. Valid avg recall: 0.818.. \n",
      "Epoch 1/2.. Batch 2450.. Train loss: 0.347.. Train acc: 0.851.. Train avg precision: 0.840.. Train avg recall: 0.790.. \n",
      "Epoch 1/2.. Valid loss: 0.339.. Valid avg presision: 0.780.. Valid avg recall: 0.906.. \n",
      "Epoch 1/2.. Batch 2500.. Train loss: 0.345.. Train acc: 0.851.. Train avg precision: 0.841.. Train avg recall: 0.791.. \n",
      "Epoch 1/2.. Valid loss: 0.274.. Valid avg presision: 0.874.. Valid avg recall: 0.829.. \n",
      "Epoch 1/2.. Batch 2550.. Train loss: 0.343.. Train acc: 0.852.. Train avg precision: 0.842.. Train avg recall: 0.792.. \n",
      "Epoch 1/2.. Valid loss: 0.535.. Valid avg presision: 0.963.. Valid avg recall: 0.509.. \n",
      "Epoch 1/2.. Batch 2600.. Train loss: 0.342.. Train acc: 0.853.. Train avg precision: 0.843.. Train avg recall: 0.793.. \n",
      "Epoch 1/2.. Valid loss: 0.294.. Valid avg presision: 0.893.. Valid avg recall: 0.795.. \n",
      "Epoch 1/2.. Batch 2650.. Train loss: 0.340.. Train acc: 0.854.. Train avg precision: 0.843.. Train avg recall: 0.794.. \n",
      "Epoch 1/2.. Valid loss: 0.272.. Valid avg presision: 0.850.. Valid avg recall: 0.863.. \n",
      "Epoch 1/2.. Batch 2700.. Train loss: 0.339.. Train acc: 0.855.. Train avg precision: 0.844.. Train avg recall: 0.795.. \n",
      "Epoch 1/2.. Valid loss: 0.263.. Valid avg presision: 0.855.. Valid avg recall: 0.868.. \n",
      "Epoch 1/2.. Batch 2750.. Train loss: 0.338.. Train acc: 0.855.. Train avg precision: 0.845.. Train avg recall: 0.796.. \n",
      "Epoch 1/2.. Valid loss: 0.274.. Valid avg presision: 0.895.. Valid avg recall: 0.802.. \n",
      "Epoch 1/2.. Batch 2800.. Train loss: 0.337.. Train acc: 0.856.. Train avg precision: 0.846.. Train avg recall: 0.797.. \n",
      "Epoch 1/2.. Valid loss: 0.245.. Valid avg presision: 0.910.. Valid avg recall: 0.826.. \n",
      "Epoch 1/2.. Batch 2850.. Train loss: 0.335.. Train acc: 0.857.. Train avg precision: 0.847.. Train avg recall: 0.798.. \n",
      "Epoch 1/2.. Valid loss: 0.384.. Valid avg presision: 0.964.. Valid avg recall: 0.596.. \n",
      "Epoch 1/2.. Batch 2900.. Train loss: 0.334.. Train acc: 0.857.. Train avg precision: 0.847.. Train avg recall: 0.799.. \n",
      "Epoch 1/2.. Valid loss: 0.304.. Valid avg presision: 0.805.. Valid avg recall: 0.871.. \n",
      "Epoch 1/2.. Batch 2950.. Train loss: 0.333.. Train acc: 0.858.. Train avg precision: 0.848.. Train avg recall: 0.800.. \n",
      "Epoch 1/2.. Valid loss: 0.251.. Valid avg presision: 0.912.. Valid avg recall: 0.821.. \n",
      "Epoch 1/2.. Batch 3000.. Train loss: 0.332.. Train acc: 0.859.. Train avg precision: 0.849.. Train avg recall: 0.801.. \n",
      "Epoch 1/2.. Valid loss: 0.269.. Valid avg presision: 0.911.. Valid avg recall: 0.801.. \n",
      "Epoch 1/2.. Batch 3050.. Train loss: 0.330.. Train acc: 0.859.. Train avg precision: 0.849.. Train avg recall: 0.802.. \n",
      "Epoch 1/2.. Valid loss: 0.299.. Valid avg presision: 0.822.. Valid avg recall: 0.898.. \n",
      "Epoch 1/2.. Batch 3100.. Train loss: 0.329.. Train acc: 0.860.. Train avg precision: 0.850.. Train avg recall: 0.802.. \n",
      "Epoch 1/2.. Valid loss: 0.296.. Valid avg presision: 0.937.. Valid avg recall: 0.729.. \n",
      "Epoch 1/2.. Batch 3150.. Train loss: 0.328.. Train acc: 0.860.. Train avg precision: 0.851.. Train avg recall: 0.803.. \n",
      "Epoch 1/2.. Valid loss: 0.250.. Valid avg presision: 0.845.. Valid avg recall: 0.913.. \n",
      "Epoch 1/2.. Batch 3200.. Train loss: 0.326.. Train acc: 0.861.. Train avg precision: 0.852.. Train avg recall: 0.804.. \n",
      "Epoch 1/2.. Valid loss: 0.266.. Valid avg presision: 0.959.. Valid avg recall: 0.750.. \n",
      "Epoch 1/2.. Batch 3250.. Train loss: 0.325.. Train acc: 0.862.. Train avg precision: 0.853.. Train avg recall: 0.805.. \n",
      "Epoch 1/2.. Valid loss: 0.391.. Valid avg presision: 0.898.. Valid avg recall: 0.762.. \n",
      "Epoch 2/2.. Batch 1.. Train loss: 0.325.. Train acc: 0.862.. Train avg precision: 0.853.. Train avg recall: 0.805.. \n",
      "Epoch 2/2.. Valid loss: 0.293.. Valid avg presision: 0.797.. Valid avg recall: 0.913.. \n",
      "Epoch 2/2.. Batch 50.. Train loss: 0.324.. Train acc: 0.863.. Train avg precision: 0.853.. Train avg recall: 0.806.. \n",
      "Epoch 2/2.. Valid loss: 0.278.. Valid avg presision: 0.856.. Valid avg recall: 0.838.. \n",
      "Epoch 2/2.. Batch 100.. Train loss: 0.323.. Train acc: 0.863.. Train avg precision: 0.854.. Train avg recall: 0.807.. \n",
      "Epoch 2/2.. Valid loss: 0.281.. Valid avg presision: 0.813.. Valid avg recall: 0.902.. \n",
      "Epoch 2/2.. Batch 150.. Train loss: 0.322.. Train acc: 0.864.. Train avg precision: 0.855.. Train avg recall: 0.807.. \n",
      "Epoch 2/2.. Valid loss: 0.371.. Valid avg presision: 0.767.. Valid avg recall: 0.936.. \n",
      "Epoch 2/2.. Batch 200.. Train loss: 0.321.. Train acc: 0.864.. Train avg precision: 0.856.. Train avg recall: 0.808.. \n",
      "Epoch 2/2.. Valid loss: 0.298.. Valid avg presision: 0.939.. Valid avg recall: 0.719.. \n",
      "Epoch 2/2.. Batch 250.. Train loss: 0.320.. Train acc: 0.865.. Train avg precision: 0.856.. Train avg recall: 0.809.. \n",
      "Epoch 2/2.. Valid loss: 0.239.. Valid avg presision: 0.906.. Valid avg recall: 0.841.. \n",
      "Epoch 2/2.. Batch 300.. Train loss: 0.318.. Train acc: 0.865.. Train avg precision: 0.857.. Train avg recall: 0.810.. \n",
      "Epoch 2/2.. Valid loss: 0.240.. Valid avg presision: 0.853.. Valid avg recall: 0.905.. \n",
      "Epoch 2/2.. Batch 350.. Train loss: 0.317.. Train acc: 0.866.. Train avg precision: 0.857.. Train avg recall: 0.811.. \n",
      "Epoch 2/2.. Valid loss: 0.256.. Valid avg presision: 0.885.. Valid avg recall: 0.841.. \n",
      "Epoch 2/2.. Batch 400.. Train loss: 0.316.. Train acc: 0.867.. Train avg precision: 0.858.. Train avg recall: 0.811.. \n",
      "Epoch 2/2.. Valid loss: 0.286.. Valid avg presision: 0.815.. Valid avg recall: 0.913.. \n",
      "Epoch 2/2.. Batch 450.. Train loss: 0.315.. Train acc: 0.867.. Train avg precision: 0.859.. Train avg recall: 0.812.. \n",
      "Epoch 2/2.. Valid loss: 0.262.. Valid avg presision: 0.923.. Valid avg recall: 0.815.. \n",
      "Epoch 2/2.. Batch 500.. Train loss: 0.314.. Train acc: 0.868.. Train avg precision: 0.859.. Train avg recall: 0.813.. \n",
      "Epoch 2/2.. Valid loss: 0.243.. Valid avg presision: 0.850.. Valid avg recall: 0.888.. \n",
      "Epoch 2/2.. Batch 550.. Train loss: 0.313.. Train acc: 0.868.. Train avg precision: 0.860.. Train avg recall: 0.813.. \n",
      "Epoch 2/2.. Valid loss: 0.462.. Valid avg presision: 0.843.. Valid avg recall: 0.852.. \n",
      "Epoch 2/2.. Batch 600.. Train loss: 0.312.. Train acc: 0.869.. Train avg precision: 0.860.. Train avg recall: 0.814.. \n",
      "Epoch 2/2.. Valid loss: 0.248.. Valid avg presision: 0.838.. Valid avg recall: 0.909.. \n",
      "Epoch 2/2.. Batch 650.. Train loss: 0.311.. Train acc: 0.869.. Train avg precision: 0.861.. Train avg recall: 0.815.. \n",
      "Epoch 2/2.. Valid loss: 0.323.. Valid avg presision: 0.789.. Valid avg recall: 0.942.. \n",
      "Epoch 2/2.. Batch 700.. Train loss: 0.310.. Train acc: 0.869.. Train avg precision: 0.862.. Train avg recall: 0.815.. \n",
      "Epoch 2/2.. Valid loss: 0.263.. Valid avg presision: 0.866.. Valid avg recall: 0.840.. \n",
      "Epoch 2/2.. Batch 750.. Train loss: 0.310.. Train acc: 0.870.. Train avg precision: 0.862.. Train avg recall: 0.816.. \n",
      "Epoch 2/2.. Valid loss: 0.248.. Valid avg presision: 0.847.. Valid avg recall: 0.923.. \n",
      "Epoch 2/2.. Batch 800.. Train loss: 0.309.. Train acc: 0.870.. Train avg precision: 0.863.. Train avg recall: 0.817.. \n",
      "Epoch 2/2.. Valid loss: 0.237.. Valid avg presision: 0.909.. Valid avg recall: 0.839.. \n",
      "Epoch 2/2.. Batch 850.. Train loss: 0.308.. Train acc: 0.871.. Train avg precision: 0.863.. Train avg recall: 0.817.. \n",
      "Epoch 2/2.. Valid loss: 0.256.. Valid avg presision: 0.892.. Valid avg recall: 0.864.. \n",
      "Epoch 2/2.. Batch 900.. Train loss: 0.307.. Train acc: 0.871.. Train avg precision: 0.864.. Train avg recall: 0.818.. \n",
      "Epoch 2/2.. Valid loss: 0.218.. Valid avg presision: 0.911.. Valid avg recall: 0.869.. \n",
      "Epoch 2/2.. Batch 950.. Train loss: 0.306.. Train acc: 0.872.. Train avg precision: 0.864.. Train avg recall: 0.819.. \n",
      "Epoch 2/2.. Valid loss: 0.398.. Valid avg presision: 0.758.. Valid avg recall: 0.930.. \n",
      "Epoch 2/2.. Batch 1000.. Train loss: 0.305.. Train acc: 0.872.. Train avg precision: 0.865.. Train avg recall: 0.819.. \n",
      "Epoch 2/2.. Valid loss: 0.214.. Valid avg presision: 0.892.. Valid avg recall: 0.884.. \n",
      "Epoch 2/2.. Batch 1050.. Train loss: 0.304.. Train acc: 0.873.. Train avg precision: 0.865.. Train avg recall: 0.820.. \n",
      "Epoch 2/2.. Valid loss: 0.226.. Valid avg presision: 0.902.. Valid avg recall: 0.875.. \n",
      "Epoch 2/2.. Batch 1100.. Train loss: 0.303.. Train acc: 0.873.. Train avg precision: 0.866.. Train avg recall: 0.821.. \n",
      "Epoch 2/2.. Valid loss: 0.233.. Valid avg presision: 0.882.. Valid avg recall: 0.877.. \n",
      "Epoch 2/2.. Batch 1150.. Train loss: 0.302.. Train acc: 0.874.. Train avg precision: 0.866.. Train avg recall: 0.821.. \n",
      "Epoch 2/2.. Valid loss: 0.296.. Valid avg presision: 0.956.. Valid avg recall: 0.706.. \n",
      "Epoch 2/2.. Batch 1200.. Train loss: 0.301.. Train acc: 0.874.. Train avg precision: 0.867.. Train avg recall: 0.822.. \n",
      "Epoch 2/2.. Valid loss: 0.236.. Valid avg presision: 0.950.. Valid avg recall: 0.802.. \n",
      "Epoch 2/2.. Batch 1250.. Train loss: 0.300.. Train acc: 0.875.. Train avg precision: 0.868.. Train avg recall: 0.822.. \n",
      "Epoch 2/2.. Valid loss: 0.312.. Valid avg presision: 0.976.. Valid avg recall: 0.678.. \n",
      "Epoch 2/2.. Batch 1300.. Train loss: 0.299.. Train acc: 0.875.. Train avg precision: 0.868.. Train avg recall: 0.823.. \n",
      "Epoch 2/2.. Valid loss: 0.293.. Valid avg presision: 0.960.. Valid avg recall: 0.689.. \n",
      "Epoch 2/2.. Batch 1350.. Train loss: 0.299.. Train acc: 0.875.. Train avg precision: 0.868.. Train avg recall: 0.824.. \n",
      "Epoch 2/2.. Valid loss: 0.210.. Valid avg presision: 0.927.. Valid avg recall: 0.850.. \n",
      "Epoch 2/2.. Batch 1400.. Train loss: 0.298.. Train acc: 0.876.. Train avg precision: 0.869.. Train avg recall: 0.824.. \n",
      "Epoch 2/2.. Valid loss: 0.337.. Valid avg presision: 0.771.. Valid avg recall: 0.931.. \n",
      "Epoch 2/2.. Batch 1450.. Train loss: 0.297.. Train acc: 0.876.. Train avg precision: 0.869.. Train avg recall: 0.825.. \n",
      "Epoch 2/2.. Valid loss: 0.233.. Valid avg presision: 0.954.. Valid avg recall: 0.808.. \n",
      "Epoch 2/2.. Batch 1500.. Train loss: 0.296.. Train acc: 0.877.. Train avg precision: 0.870.. Train avg recall: 0.825.. \n",
      "Epoch 2/2.. Valid loss: 0.213.. Valid avg presision: 0.918.. Valid avg recall: 0.862.. \n",
      "Epoch 2/2.. Batch 1550.. Train loss: 0.296.. Train acc: 0.877.. Train avg precision: 0.870.. Train avg recall: 0.826.. \n",
      "Epoch 2/2.. Valid loss: 0.215.. Valid avg presision: 0.887.. Valid avg recall: 0.893.. \n",
      "Epoch 2/2.. Batch 1600.. Train loss: 0.295.. Train acc: 0.877.. Train avg precision: 0.870.. Train avg recall: 0.826.. \n",
      "Epoch 2/2.. Valid loss: 0.210.. Valid avg presision: 0.934.. Valid avg recall: 0.859.. \n",
      "Epoch 2/2.. Batch 1650.. Train loss: 0.294.. Train acc: 0.878.. Train avg precision: 0.871.. Train avg recall: 0.827.. \n",
      "Epoch 2/2.. Valid loss: 0.216.. Valid avg presision: 0.960.. Valid avg recall: 0.816.. \n",
      "Epoch 2/2.. Batch 1700.. Train loss: 0.293.. Train acc: 0.878.. Train avg precision: 0.871.. Train avg recall: 0.827.. \n",
      "Epoch 2/2.. Valid loss: 0.213.. Valid avg presision: 0.906.. Valid avg recall: 0.881.. \n",
      "Epoch 2/2.. Batch 1750.. Train loss: 0.293.. Train acc: 0.878.. Train avg precision: 0.872.. Train avg recall: 0.828.. \n",
      "Epoch 2/2.. Valid loss: 0.229.. Valid avg presision: 0.936.. Valid avg recall: 0.816.. \n",
      "Epoch 2/2.. Batch 1800.. Train loss: 0.292.. Train acc: 0.879.. Train avg precision: 0.872.. Train avg recall: 0.828.. \n",
      "Epoch 2/2.. Valid loss: 0.237.. Valid avg presision: 0.962.. Valid avg recall: 0.775.. \n",
      "Epoch 2/2.. Batch 1850.. Train loss: 0.291.. Train acc: 0.879.. Train avg precision: 0.873.. Train avg recall: 0.829.. \n",
      "Epoch 2/2.. Valid loss: 0.223.. Valid avg presision: 0.875.. Valid avg recall: 0.901.. \n",
      "Epoch 2/2.. Batch 1900.. Train loss: 0.290.. Train acc: 0.879.. Train avg precision: 0.873.. Train avg recall: 0.829.. \n",
      "Epoch 2/2.. Valid loss: 0.240.. Valid avg presision: 0.956.. Valid avg recall: 0.791.. \n",
      "Epoch 2/2.. Batch 1950.. Train loss: 0.290.. Train acc: 0.880.. Train avg precision: 0.874.. Train avg recall: 0.830.. \n",
      "Epoch 2/2.. Valid loss: 0.256.. Valid avg presision: 0.839.. Valid avg recall: 0.920.. \n",
      "Epoch 2/2.. Batch 2000.. Train loss: 0.289.. Train acc: 0.880.. Train avg precision: 0.874.. Train avg recall: 0.830.. \n",
      "Epoch 2/2.. Valid loss: 0.252.. Valid avg presision: 0.902.. Valid avg recall: 0.844.. \n",
      "Epoch 2/2.. Batch 2050.. Train loss: 0.288.. Train acc: 0.881.. Train avg precision: 0.874.. Train avg recall: 0.831.. \n",
      "Epoch 2/2.. Valid loss: 0.418.. Valid avg presision: 0.728.. Valid avg recall: 0.967.. \n",
      "Epoch 2/2.. Batch 2100.. Train loss: 0.287.. Train acc: 0.881.. Train avg precision: 0.875.. Train avg recall: 0.831.. \n",
      "Epoch 2/2.. Valid loss: 0.225.. Valid avg presision: 0.921.. Valid avg recall: 0.847.. \n",
      "Epoch 2/2.. Batch 2150.. Train loss: 0.287.. Train acc: 0.881.. Train avg precision: 0.875.. Train avg recall: 0.831.. \n",
      "Epoch 2/2.. Valid loss: 0.244.. Valid avg presision: 0.852.. Valid avg recall: 0.912.. \n",
      "Epoch 2/2.. Batch 2200.. Train loss: 0.286.. Train acc: 0.882.. Train avg precision: 0.876.. Train avg recall: 0.832.. \n",
      "Epoch 2/2.. Valid loss: 0.226.. Valid avg presision: 0.847.. Valid avg recall: 0.921.. \n",
      "Epoch 2/2.. Batch 2250.. Train loss: 0.285.. Train acc: 0.882.. Train avg precision: 0.876.. Train avg recall: 0.832.. \n",
      "Epoch 2/2.. Valid loss: 0.250.. Valid avg presision: 0.843.. Valid avg recall: 0.921.. \n",
      "Epoch 2/2.. Batch 2300.. Train loss: 0.285.. Train acc: 0.882.. Train avg precision: 0.876.. Train avg recall: 0.833.. \n",
      "Epoch 2/2.. Valid loss: 0.254.. Valid avg presision: 0.931.. Valid avg recall: 0.817.. \n",
      "Epoch 2/2.. Batch 2350.. Train loss: 0.284.. Train acc: 0.883.. Train avg precision: 0.877.. Train avg recall: 0.833.. \n",
      "Epoch 2/2.. Valid loss: 0.194.. Valid avg presision: 0.921.. Valid avg recall: 0.877.. \n",
      "Epoch 2/2.. Batch 2400.. Train loss: 0.283.. Train acc: 0.883.. Train avg precision: 0.877.. Train avg recall: 0.834.. \n",
      "Epoch 2/2.. Valid loss: 0.250.. Valid avg presision: 0.962.. Valid avg recall: 0.779.. \n",
      "Epoch 2/2.. Batch 2450.. Train loss: 0.283.. Train acc: 0.883.. Train avg precision: 0.877.. Train avg recall: 0.834.. \n",
      "Epoch 2/2.. Valid loss: 0.211.. Valid avg presision: 0.950.. Valid avg recall: 0.820.. \n",
      "Epoch 2/2.. Batch 2500.. Train loss: 0.282.. Train acc: 0.883.. Train avg precision: 0.878.. Train avg recall: 0.834.. \n",
      "Epoch 2/2.. Valid loss: 0.193.. Valid avg presision: 0.926.. Valid avg recall: 0.880.. \n",
      "Epoch 2/2.. Batch 2550.. Train loss: 0.281.. Train acc: 0.884.. Train avg precision: 0.878.. Train avg recall: 0.835.. \n",
      "Epoch 2/2.. Valid loss: 0.209.. Valid avg presision: 0.894.. Valid avg recall: 0.892.. \n",
      "Epoch 2/2.. Batch 2600.. Train loss: 0.281.. Train acc: 0.884.. Train avg precision: 0.879.. Train avg recall: 0.835.. \n",
      "Epoch 2/2.. Valid loss: 0.230.. Valid avg presision: 0.944.. Valid avg recall: 0.814.. \n",
      "Epoch 2/2.. Batch 2650.. Train loss: 0.280.. Train acc: 0.884.. Train avg precision: 0.879.. Train avg recall: 0.836.. \n",
      "Epoch 2/2.. Valid loss: 0.198.. Valid avg presision: 0.931.. Valid avg recall: 0.862.. \n",
      "Epoch 2/2.. Batch 2700.. Train loss: 0.279.. Train acc: 0.885.. Train avg precision: 0.879.. Train avg recall: 0.836.. \n",
      "Epoch 2/2.. Valid loss: 0.228.. Valid avg presision: 0.953.. Valid avg recall: 0.811.. \n",
      "Epoch 2/2.. Batch 2750.. Train loss: 0.279.. Train acc: 0.885.. Train avg precision: 0.880.. Train avg recall: 0.836.. \n",
      "Epoch 2/2.. Valid loss: 0.225.. Valid avg presision: 0.871.. Valid avg recall: 0.894.. \n",
      "Epoch 2/2.. Batch 2800.. Train loss: 0.278.. Train acc: 0.885.. Train avg precision: 0.880.. Train avg recall: 0.837.. \n",
      "Epoch 2/2.. Valid loss: 0.209.. Valid avg presision: 0.872.. Valid avg recall: 0.919.. \n",
      "Epoch 2/2.. Batch 2850.. Train loss: 0.278.. Train acc: 0.886.. Train avg precision: 0.880.. Train avg recall: 0.837.. \n",
      "Epoch 2/2.. Valid loss: 0.278.. Valid avg presision: 0.964.. Valid avg recall: 0.741.. \n",
      "Epoch 2/2.. Batch 2900.. Train loss: 0.277.. Train acc: 0.886.. Train avg precision: 0.881.. Train avg recall: 0.838.. \n",
      "Epoch 2/2.. Valid loss: 0.233.. Valid avg presision: 0.847.. Valid avg recall: 0.915.. \n",
      "Epoch 2/2.. Batch 2950.. Train loss: 0.276.. Train acc: 0.886.. Train avg precision: 0.881.. Train avg recall: 0.838.. \n",
      "Epoch 2/2.. Valid loss: 0.183.. Valid avg presision: 0.932.. Valid avg recall: 0.879.. \n",
      "Epoch 2/2.. Batch 3000.. Train loss: 0.276.. Train acc: 0.887.. Train avg precision: 0.881.. Train avg recall: 0.839.. \n",
      "Epoch 2/2.. Valid loss: 0.183.. Valid avg presision: 0.931.. Valid avg recall: 0.879.. \n",
      "Epoch 2/2.. Batch 3050.. Train loss: 0.275.. Train acc: 0.887.. Train avg precision: 0.882.. Train avg recall: 0.839.. \n",
      "Epoch 2/2.. Valid loss: 0.198.. Valid avg presision: 0.900.. Valid avg recall: 0.891.. \n",
      "Epoch 2/2.. Batch 3100.. Train loss: 0.274.. Train acc: 0.887.. Train avg precision: 0.882.. Train avg recall: 0.839.. \n",
      "Epoch 2/2.. Valid loss: 0.275.. Valid avg presision: 0.962.. Valid avg recall: 0.744.. \n",
      "Epoch 2/2.. Batch 3150.. Train loss: 0.274.. Train acc: 0.888.. Train avg precision: 0.882.. Train avg recall: 0.840.. \n",
      "Epoch 2/2.. Valid loss: 0.226.. Valid avg presision: 0.850.. Valid avg recall: 0.924.. \n",
      "Epoch 2/2.. Batch 3200.. Train loss: 0.273.. Train acc: 0.888.. Train avg precision: 0.883.. Train avg recall: 0.840.. \n",
      "Epoch 2/2.. Valid loss: 0.206.. Valid avg presision: 0.871.. Valid avg recall: 0.926.. \n",
      "Epoch 2/2.. Batch 3250.. Train loss: 0.273.. Train acc: 0.888.. Train avg precision: 0.883.. Train avg recall: 0.840.. \n",
      "Epoch 2/2.. Valid loss: 0.436.. Valid avg presision: 0.976.. Valid avg recall: 0.572.. \n"
     ]
    }
   ],
   "source": [
    "## USE GPU ##\n",
    "model = model.cuda()\n",
    "\n",
    "optimizer = torch.optim.Adam(model.parameters())\n",
    "criterion = torch.nn.BCELoss()\n",
    "\n",
    "print_every = 50\n",
    "\n",
    "loss_sum = 0\n",
    "correct_sum = 0\n",
    "samples = 0\n",
    "sum_precision = 0\n",
    "sum_recall = 0\n",
    "valid_count = 0\n",
    "total_train_batch = 0\n",
    "\n",
    "\n",
    "\n",
    "train_metrics = []\n",
    "valid_metrics = []\n",
    "\n",
    "for epoch in range(epochs):\n",
    "    ## Training\n",
    "    batch = 1\n",
    "    model.train()\n",
    "    for x, y in train_loader:\n",
    "        \n",
    "        total_train_batch += 1\n",
    "        x = x.cuda()\n",
    "        y = y.cuda()\n",
    "        y = y.view(-1, 1).float()\n",
    "        \n",
    "        optimizer.zero_grad()\n",
    "        output = model(x)\n",
    "\n",
    "        loss = criterion(output, y)\n",
    "        loss.backward()\n",
    "        optimizer.step()\n",
    "        \n",
    "        samples += x.shape[0]\n",
    "        loss_sum += loss.item() * x.shape[0] \n",
    "        y_pred = (output >= 0.5).float()\n",
    "        num_corrects = torch.sum(y_pred == y)\n",
    "        correct_sum += num_corrects\n",
    "  \n",
    "        precision = precision_score(y.to('cpu'), y_pred.to('cpu'))\n",
    "        recall = recall_score(y.to('cpu'), y_pred.to('cpu'))\n",
    "        sum_precision += precision\n",
    "        sum_recall += recall\n",
    "        \n",
    "        if batch % 500 == 0:\n",
    "            torch.save(model.state_dict(), 'checkpoint_{0}.pth'.format(batch))\n",
    "            \n",
    "        if (batch % print_every == 0) or (batch == 1):\n",
    "            train_loss = float(loss_sum)/float(samples)\n",
    "            train_acc = float(correct_sum)/float(samples)\n",
    "            train_prec = float(sum_precision)/float(total_train_batch)\n",
    "            train_rec = float(sum_recall)/float(total_train_batch)\n",
    "            train_metrics.append([epoch+1, total_train_batch, train_loss, train_acc, train_prec, train_rec])\n",
    "            \n",
    "            print(f\"Epoch {epoch+1}/{epochs}.. \"\n",
    "                  f\"Batch {batch}.. \"\n",
    "                  f\"Train loss: {train_loss:.3f}.. \"\n",
    "                  f\"Train acc: {train_acc:.3f}.. \"\n",
    "                  f\"Train avg precision: {train_prec:.3f}.. \"\n",
    "                  f\"Train avg recall: {train_rec:.3f}.. \")\n",
    "            \n",
    "            model.eval()\n",
    "            with torch.no_grad():\n",
    "                val_loss_sum = 0\n",
    "                val_precision_sum = 0\n",
    "                val_recall_sum = 0\n",
    "                val_samples = 0\n",
    "                val_batch = 1\n",
    "                \n",
    "                for x_val, y_val in valid_loader:\n",
    "                    x_val = x_val.cuda()\n",
    "                    y_val = y_val.cuda()\n",
    "                    y_val = y_val.view(-1, 1).float()\n",
    "\n",
    "                    output_val = model(x_val)\n",
    "                    loss_val = criterion(output_val, y_val)\n",
    "                    y_val_pred = (output_val >= 0.5).float()\n",
    "\n",
    "                    val_samples += x_val.shape[0]\n",
    "                    val_loss_sum += loss_val.item() * x_val.shape[0]\n",
    "\n",
    "                    val_precision = precision_score(y_val.to('cpu'), y_val_pred.to('cpu'))\n",
    "                    val_recall = recall_score(y_val.to('cpu'), y_val_pred.to('cpu'))\n",
    "                    val_precision_sum += val_precision\n",
    "                    val_recall_sum += val_recall\n",
    "                    val_batch+=1\n",
    "\n",
    "\n",
    "                val = float(val_loss_sum)/float(val_samples)\n",
    "                prec = float(val_precision_sum)/float(val_batch)\n",
    "                rec = float(val_recall_sum)/float(val_batch)\n",
    "\n",
    "                valid_metrics.append([epoch+1, val, prec, rec])\n",
    "                        \n",
    "                print(f\"Epoch {epoch+1}/{epochs}.. \"\n",
    "                      f\"Valid loss: {val:.3f}.. \"\n",
    "                      f\"Valid avg presision: {prec:.3f}.. \"\n",
    "                      f\"Valid avg recall: {rec:.3f}.. \")\n",
    "            model.train()\n",
    "                \n",
    "            \n",
    "        batch +=1\n",
    "    \n",
    "\n",
    "            \n",
    "\n",
    "                \n",
    "\n",
    "\n",
    "    "
   ]
  },
  {
   "cell_type": "code",
   "execution_count": 42,
   "metadata": {},
   "outputs": [],
   "source": [
    "torch.save(model.state_dict(), 'checkpoint_final_2.pth')"
   ]
  },
  {
   "cell_type": "code",
   "execution_count": 43,
   "metadata": {},
   "outputs": [
    {
     "ename": "NameError",
     "evalue": "name 'validation_metrics' is not defined",
     "output_type": "error",
     "traceback": [
      "\u001b[0;31m---------------------------------------------------------------------------\u001b[0m",
      "\u001b[0;31mNameError\u001b[0m                                 Traceback (most recent call last)",
      "\u001b[0;32m<ipython-input-43-e1deb585664f>\u001b[0m in \u001b[0;36m<module>\u001b[0;34m\u001b[0m\n\u001b[1;32m      1\u001b[0m \u001b[0mnp\u001b[0m\u001b[0;34m.\u001b[0m\u001b[0msave\u001b[0m\u001b[0;34m(\u001b[0m\u001b[0;34m\"train_metrics\"\u001b[0m\u001b[0;34m,\u001b[0m \u001b[0mtrain_metrics\u001b[0m\u001b[0;34m)\u001b[0m\u001b[0;34m\u001b[0m\u001b[0;34m\u001b[0m\u001b[0m\n\u001b[0;32m----> 2\u001b[0;31m \u001b[0mnp\u001b[0m\u001b[0;34m.\u001b[0m\u001b[0msave\u001b[0m\u001b[0;34m(\u001b[0m\u001b[0;34m\"valid_metrics\"\u001b[0m\u001b[0;34m,\u001b[0m \u001b[0mvalidation_metrics\u001b[0m\u001b[0;34m)\u001b[0m\u001b[0;34m\u001b[0m\u001b[0;34m\u001b[0m\u001b[0m\n\u001b[0m",
      "\u001b[0;31mNameError\u001b[0m: name 'validation_metrics' is not defined"
     ]
    }
   ],
   "source": [
    "np.save(\"train_metrics\", train_metrics)\n",
    "np.save(\"valid_metrics\", validation_metrics)"
   ]
  },
  {
   "cell_type": "code",
   "execution_count": null,
   "metadata": {},
   "outputs": [],
   "source": [
    "sns.lineplot(train_metrics)"
   ]
  },
  {
   "cell_type": "code",
   "execution_count": null,
   "metadata": {},
   "outputs": [],
   "source": [
    "a = np.array(train_metrics)"
   ]
  },
  {
   "cell_type": "code",
   "execution_count": null,
   "metadata": {},
   "outputs": [],
   "source": [
    "a[:,2]"
   ]
  },
  {
   "cell_type": "markdown",
   "metadata": {},
   "source": [
    "# TEST MODEL PREDICTIONS"
   ]
  },
  {
   "cell_type": "code",
   "execution_count": null,
   "metadata": {},
   "outputs": [],
   "source": [
    "model_test = torchvision.models.resnet34(pretrained=False)"
   ]
  },
  {
   "cell_type": "code",
   "execution_count": null,
   "metadata": {},
   "outputs": [],
   "source": [
    "model_test.fc = torch.nn.Sequential(\n",
    "    torch.nn.Linear(in_features=512, out_features=1),\n",
    "    torch.nn.Sigmoid()\n",
    ")"
   ]
  },
  {
   "cell_type": "code",
   "execution_count": null,
   "metadata": {},
   "outputs": [],
   "source": [
    "model_test.load_state_dict(torch.load(\"checkpoint_final.pth\"))"
   ]
  },
  {
   "cell_type": "code",
   "execution_count": null,
   "metadata": {},
   "outputs": [],
   "source": [
    "## USE GPU\n",
    "model_test = model_test.cuda()\n",
    "\n",
    "predictions = []\n",
    "model_test.eval()\n",
    "total_test_batches = len(test_loader)\n",
    "img_ids = []\n",
    "for x,y, ids in tqdm(test_loader, total = total_test_batches):\n",
    "    x = x.cuda()\n",
    "    y = y.cuda()\n",
    "    y = y.view(-1, 1).float()\n",
    "    img_ids.append(ids)\n",
    "    \n",
    "    with torch.no_grad():\n",
    "        out = model_test(x)\n",
    "        predictions.append((out >= 0.5).float().cpu().numpy())"
   ]
  },
  {
   "cell_type": "code",
   "execution_count": null,
   "metadata": {},
   "outputs": [],
   "source": [
    "y_hat = []\n",
    "for i in range(len(predictions)):\n",
    "    for val in predictions[i]:\n",
    "        y_hat.append(int(val[0]))\n",
    "        \n",
    "img_pred_id = []\n",
    "for i in range(len(img_ids)):\n",
    "    for val in img_ids[i]:\n",
    "        img_pred_id.append(val)"
   ]
  }
 ],
 "metadata": {
  "kernelspec": {
   "display_name": "Python 3",
   "language": "python",
   "name": "python3"
  },
  "language_info": {
   "codemirror_mode": {
    "name": "ipython",
    "version": 3
   },
   "file_extension": ".py",
   "mimetype": "text/x-python",
   "name": "python",
   "nbconvert_exporter": "python",
   "pygments_lexer": "ipython3",
   "version": "3.8.1"
  }
 },
 "nbformat": 4,
 "nbformat_minor": 4
}
