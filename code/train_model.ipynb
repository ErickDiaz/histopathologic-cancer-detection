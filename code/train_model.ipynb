{
 "cells": [
  {
   "cell_type": "markdown",
   "metadata": {},
   "source": [
    "# Training"
   ]
  },
  {
   "cell_type": "code",
   "execution_count": 26,
   "metadata": {},
   "outputs": [],
   "source": [
    "import pandas as pd\n",
    "import numpy as np\n",
    "import torch\n",
    "from torch.utils import data\n",
    "import torchvision\n",
    "from torchvision import transforms\n",
    "from skimage.io import imread\n",
    "from sklearn.model_selection import train_test_split\n",
    "from sklearn.metrics import precision_score, recall_score\n",
    "from tqdm import tqdm\n",
    "import seaborn as sns\n",
    "import random"
   ]
  },
  {
   "cell_type": "code",
   "execution_count": 2,
   "metadata": {},
   "outputs": [],
   "source": [
    "train_path = \"../data/train/\""
   ]
  },
  {
   "cell_type": "markdown",
   "metadata": {},
   "source": [
    "### Tansformation"
   ]
  },
  {
   "cell_type": "code",
   "execution_count": 3,
   "metadata": {},
   "outputs": [],
   "source": [
    "transform = transforms.Compose([\n",
    "    transforms.ToPILImage(),\n",
    "    transforms.Resize(256),\n",
    "    transforms.CenterCrop(224),\n",
    "    transforms.ToTensor(),\n",
    "    transforms.Normalize(mean=[0.485, 0.456, 0.406], std=[0.229, 0.224, 0.225])\n",
    "])"
   ]
  },
  {
   "cell_type": "markdown",
   "metadata": {},
   "source": [
    "### Load Data"
   ]
  },
  {
   "cell_type": "code",
   "execution_count": 4,
   "metadata": {},
   "outputs": [],
   "source": [
    "train_labels = pd.read_csv(\"../data/train_labels.csv\")"
   ]
  },
  {
   "cell_type": "code",
   "execution_count": 5,
   "metadata": {},
   "outputs": [],
   "source": [
    "train_labels['img_path'] = train_path + train_labels[['id']] + '.tif'"
   ]
  },
  {
   "cell_type": "code",
   "execution_count": 6,
   "metadata": {},
   "outputs": [
    {
     "data": {
      "text/html": [
       "<div>\n",
       "<style scoped>\n",
       "    .dataframe tbody tr th:only-of-type {\n",
       "        vertical-align: middle;\n",
       "    }\n",
       "\n",
       "    .dataframe tbody tr th {\n",
       "        vertical-align: top;\n",
       "    }\n",
       "\n",
       "    .dataframe thead th {\n",
       "        text-align: right;\n",
       "    }\n",
       "</style>\n",
       "<table border=\"1\" class=\"dataframe\">\n",
       "  <thead>\n",
       "    <tr style=\"text-align: right;\">\n",
       "      <th></th>\n",
       "      <th>id</th>\n",
       "      <th>label</th>\n",
       "      <th>img_path</th>\n",
       "    </tr>\n",
       "  </thead>\n",
       "  <tbody>\n",
       "    <tr>\n",
       "      <th>0</th>\n",
       "      <td>f38a6374c348f90b587e046aac6079959adf3835</td>\n",
       "      <td>0</td>\n",
       "      <td>../data/train/f38a6374c348f90b587e046aac607995...</td>\n",
       "    </tr>\n",
       "    <tr>\n",
       "      <th>1</th>\n",
       "      <td>c18f2d887b7ae4f6742ee445113fa1aef383ed77</td>\n",
       "      <td>1</td>\n",
       "      <td>../data/train/c18f2d887b7ae4f6742ee445113fa1ae...</td>\n",
       "    </tr>\n",
       "    <tr>\n",
       "      <th>2</th>\n",
       "      <td>755db6279dae599ebb4d39a9123cce439965282d</td>\n",
       "      <td>0</td>\n",
       "      <td>../data/train/755db6279dae599ebb4d39a9123cce43...</td>\n",
       "    </tr>\n",
       "    <tr>\n",
       "      <th>3</th>\n",
       "      <td>bc3f0c64fb968ff4a8bd33af6971ecae77c75e08</td>\n",
       "      <td>0</td>\n",
       "      <td>../data/train/bc3f0c64fb968ff4a8bd33af6971ecae...</td>\n",
       "    </tr>\n",
       "    <tr>\n",
       "      <th>4</th>\n",
       "      <td>068aba587a4950175d04c680d38943fd488d6a9d</td>\n",
       "      <td>0</td>\n",
       "      <td>../data/train/068aba587a4950175d04c680d38943fd...</td>\n",
       "    </tr>\n",
       "  </tbody>\n",
       "</table>\n",
       "</div>"
      ],
      "text/plain": [
       "                                         id  label  \\\n",
       "0  f38a6374c348f90b587e046aac6079959adf3835      0   \n",
       "1  c18f2d887b7ae4f6742ee445113fa1aef383ed77      1   \n",
       "2  755db6279dae599ebb4d39a9123cce439965282d      0   \n",
       "3  bc3f0c64fb968ff4a8bd33af6971ecae77c75e08      0   \n",
       "4  068aba587a4950175d04c680d38943fd488d6a9d      0   \n",
       "\n",
       "                                            img_path  \n",
       "0  ../data/train/f38a6374c348f90b587e046aac607995...  \n",
       "1  ../data/train/c18f2d887b7ae4f6742ee445113fa1ae...  \n",
       "2  ../data/train/755db6279dae599ebb4d39a9123cce43...  \n",
       "3  ../data/train/bc3f0c64fb968ff4a8bd33af6971ecae...  \n",
       "4  ../data/train/068aba587a4950175d04c680d38943fd...  "
      ]
     },
     "execution_count": 6,
     "metadata": {},
     "output_type": "execute_result"
    }
   ],
   "source": [
    "train_labels.head()"
   ]
  },
  {
   "cell_type": "code",
   "execution_count": 7,
   "metadata": {},
   "outputs": [],
   "source": [
    "total_images = train_labels.shape[0]"
   ]
  },
  {
   "cell_type": "markdown",
   "metadata": {},
   "source": [
    "#### Train and Validation Data"
   ]
  },
  {
   "cell_type": "code",
   "execution_count": 8,
   "metadata": {},
   "outputs": [],
   "source": [
    "train, test_index = train_test_split(train_labels.index, test_size=0.20)"
   ]
  },
  {
   "cell_type": "code",
   "execution_count": 9,
   "metadata": {},
   "outputs": [],
   "source": [
    "train_index, validation_index = train_test_split(train_labels.index, test_size=0.05)"
   ]
  },
  {
   "cell_type": "code",
   "execution_count": 10,
   "metadata": {},
   "outputs": [
    {
     "name": "stdout",
     "output_type": "stream",
     "text": [
      "(209023,)\n",
      "(11002,)\n"
     ]
    }
   ],
   "source": [
    "print(train_index.shape)\n",
    "print(validation_index.shape)"
   ]
  },
  {
   "cell_type": "markdown",
   "metadata": {},
   "source": [
    "### Pytorch Data Generator"
   ]
  },
  {
   "cell_type": "code",
   "execution_count": 11,
   "metadata": {},
   "outputs": [],
   "source": [
    "class DataGenerator(data.Dataset):\n",
    "    def __init__(self, dataset, transform):\n",
    "        self.dataset = dataset\n",
    "        self.transform = transform\n",
    "        \n",
    "    def __len__(self):\n",
    "        return self.dataset.shape[0]\n",
    "    \n",
    "    def __getitem__(self, index):\n",
    "        label = self.dataset['label'][index]\n",
    "        \n",
    "        img_raw = imread(self.dataset['img_path'][index])\n",
    "        img = self.transform(img_raw)\n",
    "        \n",
    "        return img, label"
   ]
  },
  {
   "cell_type": "code",
   "execution_count": 12,
   "metadata": {},
   "outputs": [],
   "source": [
    "class DataGenerator_test(data.Dataset):\n",
    "    def __init__(self, dataset, transform):\n",
    "        self.dataset = dataset\n",
    "        self.transform = transform\n",
    "        \n",
    "    def __len__(self):\n",
    "        return self.dataset.shape[0]\n",
    "    \n",
    "    def __getitem__(self, index):\n",
    "        label = self.dataset['label'][index]\n",
    "        \n",
    "        img_raw = imread(self.dataset['img_path'][index])\n",
    "        img = self.transform(img_raw)       \n",
    "        img_id = self.dataset['id'][index]\n",
    "        \n",
    "        return img, label, img_id"
   ]
  },
  {
   "cell_type": "markdown",
   "metadata": {},
   "source": [
    "## Model"
   ]
  },
  {
   "cell_type": "code",
   "execution_count": 13,
   "metadata": {},
   "outputs": [],
   "source": [
    "model = torchvision.models.resnet34(pretrained=False)"
   ]
  },
  {
   "cell_type": "markdown",
   "metadata": {},
   "source": [
    "## Custom Fully connected Layer"
   ]
  },
  {
   "cell_type": "code",
   "execution_count": 14,
   "metadata": {},
   "outputs": [],
   "source": [
    "model.fc = torch.nn.Sequential(\n",
    "    torch.nn.Linear(in_features=512, out_features=1),\n",
    "    torch.nn.Sigmoid()\n",
    ")"
   ]
  },
  {
   "cell_type": "code",
   "execution_count": 15,
   "metadata": {},
   "outputs": [
    {
     "data": {
      "text/plain": [
       "ResNet(\n",
       "  (conv1): Conv2d(3, 64, kernel_size=(7, 7), stride=(2, 2), padding=(3, 3), bias=False)\n",
       "  (bn1): BatchNorm2d(64, eps=1e-05, momentum=0.1, affine=True, track_running_stats=True)\n",
       "  (relu): ReLU(inplace=True)\n",
       "  (maxpool): MaxPool2d(kernel_size=3, stride=2, padding=1, dilation=1, ceil_mode=False)\n",
       "  (layer1): Sequential(\n",
       "    (0): BasicBlock(\n",
       "      (conv1): Conv2d(64, 64, kernel_size=(3, 3), stride=(1, 1), padding=(1, 1), bias=False)\n",
       "      (bn1): BatchNorm2d(64, eps=1e-05, momentum=0.1, affine=True, track_running_stats=True)\n",
       "      (relu): ReLU(inplace=True)\n",
       "      (conv2): Conv2d(64, 64, kernel_size=(3, 3), stride=(1, 1), padding=(1, 1), bias=False)\n",
       "      (bn2): BatchNorm2d(64, eps=1e-05, momentum=0.1, affine=True, track_running_stats=True)\n",
       "    )\n",
       "    (1): BasicBlock(\n",
       "      (conv1): Conv2d(64, 64, kernel_size=(3, 3), stride=(1, 1), padding=(1, 1), bias=False)\n",
       "      (bn1): BatchNorm2d(64, eps=1e-05, momentum=0.1, affine=True, track_running_stats=True)\n",
       "      (relu): ReLU(inplace=True)\n",
       "      (conv2): Conv2d(64, 64, kernel_size=(3, 3), stride=(1, 1), padding=(1, 1), bias=False)\n",
       "      (bn2): BatchNorm2d(64, eps=1e-05, momentum=0.1, affine=True, track_running_stats=True)\n",
       "    )\n",
       "    (2): BasicBlock(\n",
       "      (conv1): Conv2d(64, 64, kernel_size=(3, 3), stride=(1, 1), padding=(1, 1), bias=False)\n",
       "      (bn1): BatchNorm2d(64, eps=1e-05, momentum=0.1, affine=True, track_running_stats=True)\n",
       "      (relu): ReLU(inplace=True)\n",
       "      (conv2): Conv2d(64, 64, kernel_size=(3, 3), stride=(1, 1), padding=(1, 1), bias=False)\n",
       "      (bn2): BatchNorm2d(64, eps=1e-05, momentum=0.1, affine=True, track_running_stats=True)\n",
       "    )\n",
       "  )\n",
       "  (layer2): Sequential(\n",
       "    (0): BasicBlock(\n",
       "      (conv1): Conv2d(64, 128, kernel_size=(3, 3), stride=(2, 2), padding=(1, 1), bias=False)\n",
       "      (bn1): BatchNorm2d(128, eps=1e-05, momentum=0.1, affine=True, track_running_stats=True)\n",
       "      (relu): ReLU(inplace=True)\n",
       "      (conv2): Conv2d(128, 128, kernel_size=(3, 3), stride=(1, 1), padding=(1, 1), bias=False)\n",
       "      (bn2): BatchNorm2d(128, eps=1e-05, momentum=0.1, affine=True, track_running_stats=True)\n",
       "      (downsample): Sequential(\n",
       "        (0): Conv2d(64, 128, kernel_size=(1, 1), stride=(2, 2), bias=False)\n",
       "        (1): BatchNorm2d(128, eps=1e-05, momentum=0.1, affine=True, track_running_stats=True)\n",
       "      )\n",
       "    )\n",
       "    (1): BasicBlock(\n",
       "      (conv1): Conv2d(128, 128, kernel_size=(3, 3), stride=(1, 1), padding=(1, 1), bias=False)\n",
       "      (bn1): BatchNorm2d(128, eps=1e-05, momentum=0.1, affine=True, track_running_stats=True)\n",
       "      (relu): ReLU(inplace=True)\n",
       "      (conv2): Conv2d(128, 128, kernel_size=(3, 3), stride=(1, 1), padding=(1, 1), bias=False)\n",
       "      (bn2): BatchNorm2d(128, eps=1e-05, momentum=0.1, affine=True, track_running_stats=True)\n",
       "    )\n",
       "    (2): BasicBlock(\n",
       "      (conv1): Conv2d(128, 128, kernel_size=(3, 3), stride=(1, 1), padding=(1, 1), bias=False)\n",
       "      (bn1): BatchNorm2d(128, eps=1e-05, momentum=0.1, affine=True, track_running_stats=True)\n",
       "      (relu): ReLU(inplace=True)\n",
       "      (conv2): Conv2d(128, 128, kernel_size=(3, 3), stride=(1, 1), padding=(1, 1), bias=False)\n",
       "      (bn2): BatchNorm2d(128, eps=1e-05, momentum=0.1, affine=True, track_running_stats=True)\n",
       "    )\n",
       "    (3): BasicBlock(\n",
       "      (conv1): Conv2d(128, 128, kernel_size=(3, 3), stride=(1, 1), padding=(1, 1), bias=False)\n",
       "      (bn1): BatchNorm2d(128, eps=1e-05, momentum=0.1, affine=True, track_running_stats=True)\n",
       "      (relu): ReLU(inplace=True)\n",
       "      (conv2): Conv2d(128, 128, kernel_size=(3, 3), stride=(1, 1), padding=(1, 1), bias=False)\n",
       "      (bn2): BatchNorm2d(128, eps=1e-05, momentum=0.1, affine=True, track_running_stats=True)\n",
       "    )\n",
       "  )\n",
       "  (layer3): Sequential(\n",
       "    (0): BasicBlock(\n",
       "      (conv1): Conv2d(128, 256, kernel_size=(3, 3), stride=(2, 2), padding=(1, 1), bias=False)\n",
       "      (bn1): BatchNorm2d(256, eps=1e-05, momentum=0.1, affine=True, track_running_stats=True)\n",
       "      (relu): ReLU(inplace=True)\n",
       "      (conv2): Conv2d(256, 256, kernel_size=(3, 3), stride=(1, 1), padding=(1, 1), bias=False)\n",
       "      (bn2): BatchNorm2d(256, eps=1e-05, momentum=0.1, affine=True, track_running_stats=True)\n",
       "      (downsample): Sequential(\n",
       "        (0): Conv2d(128, 256, kernel_size=(1, 1), stride=(2, 2), bias=False)\n",
       "        (1): BatchNorm2d(256, eps=1e-05, momentum=0.1, affine=True, track_running_stats=True)\n",
       "      )\n",
       "    )\n",
       "    (1): BasicBlock(\n",
       "      (conv1): Conv2d(256, 256, kernel_size=(3, 3), stride=(1, 1), padding=(1, 1), bias=False)\n",
       "      (bn1): BatchNorm2d(256, eps=1e-05, momentum=0.1, affine=True, track_running_stats=True)\n",
       "      (relu): ReLU(inplace=True)\n",
       "      (conv2): Conv2d(256, 256, kernel_size=(3, 3), stride=(1, 1), padding=(1, 1), bias=False)\n",
       "      (bn2): BatchNorm2d(256, eps=1e-05, momentum=0.1, affine=True, track_running_stats=True)\n",
       "    )\n",
       "    (2): BasicBlock(\n",
       "      (conv1): Conv2d(256, 256, kernel_size=(3, 3), stride=(1, 1), padding=(1, 1), bias=False)\n",
       "      (bn1): BatchNorm2d(256, eps=1e-05, momentum=0.1, affine=True, track_running_stats=True)\n",
       "      (relu): ReLU(inplace=True)\n",
       "      (conv2): Conv2d(256, 256, kernel_size=(3, 3), stride=(1, 1), padding=(1, 1), bias=False)\n",
       "      (bn2): BatchNorm2d(256, eps=1e-05, momentum=0.1, affine=True, track_running_stats=True)\n",
       "    )\n",
       "    (3): BasicBlock(\n",
       "      (conv1): Conv2d(256, 256, kernel_size=(3, 3), stride=(1, 1), padding=(1, 1), bias=False)\n",
       "      (bn1): BatchNorm2d(256, eps=1e-05, momentum=0.1, affine=True, track_running_stats=True)\n",
       "      (relu): ReLU(inplace=True)\n",
       "      (conv2): Conv2d(256, 256, kernel_size=(3, 3), stride=(1, 1), padding=(1, 1), bias=False)\n",
       "      (bn2): BatchNorm2d(256, eps=1e-05, momentum=0.1, affine=True, track_running_stats=True)\n",
       "    )\n",
       "    (4): BasicBlock(\n",
       "      (conv1): Conv2d(256, 256, kernel_size=(3, 3), stride=(1, 1), padding=(1, 1), bias=False)\n",
       "      (bn1): BatchNorm2d(256, eps=1e-05, momentum=0.1, affine=True, track_running_stats=True)\n",
       "      (relu): ReLU(inplace=True)\n",
       "      (conv2): Conv2d(256, 256, kernel_size=(3, 3), stride=(1, 1), padding=(1, 1), bias=False)\n",
       "      (bn2): BatchNorm2d(256, eps=1e-05, momentum=0.1, affine=True, track_running_stats=True)\n",
       "    )\n",
       "    (5): BasicBlock(\n",
       "      (conv1): Conv2d(256, 256, kernel_size=(3, 3), stride=(1, 1), padding=(1, 1), bias=False)\n",
       "      (bn1): BatchNorm2d(256, eps=1e-05, momentum=0.1, affine=True, track_running_stats=True)\n",
       "      (relu): ReLU(inplace=True)\n",
       "      (conv2): Conv2d(256, 256, kernel_size=(3, 3), stride=(1, 1), padding=(1, 1), bias=False)\n",
       "      (bn2): BatchNorm2d(256, eps=1e-05, momentum=0.1, affine=True, track_running_stats=True)\n",
       "    )\n",
       "  )\n",
       "  (layer4): Sequential(\n",
       "    (0): BasicBlock(\n",
       "      (conv1): Conv2d(256, 512, kernel_size=(3, 3), stride=(2, 2), padding=(1, 1), bias=False)\n",
       "      (bn1): BatchNorm2d(512, eps=1e-05, momentum=0.1, affine=True, track_running_stats=True)\n",
       "      (relu): ReLU(inplace=True)\n",
       "      (conv2): Conv2d(512, 512, kernel_size=(3, 3), stride=(1, 1), padding=(1, 1), bias=False)\n",
       "      (bn2): BatchNorm2d(512, eps=1e-05, momentum=0.1, affine=True, track_running_stats=True)\n",
       "      (downsample): Sequential(\n",
       "        (0): Conv2d(256, 512, kernel_size=(1, 1), stride=(2, 2), bias=False)\n",
       "        (1): BatchNorm2d(512, eps=1e-05, momentum=0.1, affine=True, track_running_stats=True)\n",
       "      )\n",
       "    )\n",
       "    (1): BasicBlock(\n",
       "      (conv1): Conv2d(512, 512, kernel_size=(3, 3), stride=(1, 1), padding=(1, 1), bias=False)\n",
       "      (bn1): BatchNorm2d(512, eps=1e-05, momentum=0.1, affine=True, track_running_stats=True)\n",
       "      (relu): ReLU(inplace=True)\n",
       "      (conv2): Conv2d(512, 512, kernel_size=(3, 3), stride=(1, 1), padding=(1, 1), bias=False)\n",
       "      (bn2): BatchNorm2d(512, eps=1e-05, momentum=0.1, affine=True, track_running_stats=True)\n",
       "    )\n",
       "    (2): BasicBlock(\n",
       "      (conv1): Conv2d(512, 512, kernel_size=(3, 3), stride=(1, 1), padding=(1, 1), bias=False)\n",
       "      (bn1): BatchNorm2d(512, eps=1e-05, momentum=0.1, affine=True, track_running_stats=True)\n",
       "      (relu): ReLU(inplace=True)\n",
       "      (conv2): Conv2d(512, 512, kernel_size=(3, 3), stride=(1, 1), padding=(1, 1), bias=False)\n",
       "      (bn2): BatchNorm2d(512, eps=1e-05, momentum=0.1, affine=True, track_running_stats=True)\n",
       "    )\n",
       "  )\n",
       "  (avgpool): AdaptiveAvgPool2d(output_size=(1, 1))\n",
       "  (fc): Sequential(\n",
       "    (0): Linear(in_features=512, out_features=1, bias=True)\n",
       "    (1): Sigmoid()\n",
       "  )\n",
       ")"
      ]
     },
     "execution_count": 15,
     "metadata": {},
     "output_type": "execute_result"
    }
   ],
   "source": [
    "model"
   ]
  },
  {
   "cell_type": "markdown",
   "metadata": {},
   "source": [
    "## Hyperparameters"
   ]
  },
  {
   "cell_type": "code",
   "execution_count": 16,
   "metadata": {},
   "outputs": [],
   "source": [
    "epochs = 2\n",
    "batch_size = 64"
   ]
  },
  {
   "cell_type": "markdown",
   "metadata": {},
   "source": [
    "## Data Loaders"
   ]
  },
  {
   "cell_type": "code",
   "execution_count": 17,
   "metadata": {},
   "outputs": [],
   "source": [
    "train_data = DataGenerator(train_labels, transform=transform)"
   ]
  },
  {
   "cell_type": "code",
   "execution_count": 18,
   "metadata": {},
   "outputs": [],
   "source": [
    "train_loader = data.DataLoader(train_data, batch_size=batch_size,\n",
    "                              sampler= data.SubsetRandomSampler(train_index))"
   ]
  },
  {
   "cell_type": "code",
   "execution_count": 19,
   "metadata": {},
   "outputs": [],
   "source": [
    "valid_loader = data.DataLoader(train_data, batch_size=batch_size,\n",
    "                              sampler= data.SubsetRandomSampler(validation_index))"
   ]
  },
  {
   "cell_type": "code",
   "execution_count": 20,
   "metadata": {},
   "outputs": [
    {
     "name": "stdout",
     "output_type": "stream",
     "text": [
      "172\n",
      "3266\n"
     ]
    }
   ],
   "source": [
    "print(len(valid_loader))\n",
    "print(len(train_loader))"
   ]
  },
  {
   "cell_type": "markdown",
   "metadata": {},
   "source": [
    "### Train Model"
   ]
  },
  {
   "cell_type": "code",
   "execution_count": 21,
   "metadata": {},
   "outputs": [
    {
     "name": "stderr",
     "output_type": "stream",
     "text": [
      "/home/erick/anaconda3/envs/histopathologic_cancer/lib/python3.8/site-packages/sklearn/metrics/_classification.py:1272: UndefinedMetricWarning: Precision is ill-defined and being set to 0.0 due to no predicted samples. Use `zero_division` parameter to control this behavior.\n",
      "  _warn_prf(average, modifier, msg_start, len(result))\n"
     ]
    },
    {
     "name": "stdout",
     "output_type": "stream",
     "text": [
      "Epoch 1/2.. Batch 1.. Train loss: 0.682.. Train acc: 0.516.. Train avg precision: 0.000.. Train avg recall: 0.000.. \n",
      "Epoch 1/2.. Valid loss: 10.995.. Valid avg presision: 0.000.. Valid avg recall: 0.000.. \n",
      "Epoch 1/2.. Batch 100.. Train loss: 0.510.. Train acc: 0.777.. Train avg precision: 0.765.. Train avg recall: 0.683.. \n",
      "Epoch 1/2.. Valid loss: 0.450.. Valid avg presision: 0.856.. Valid avg recall: 0.564.. \n",
      "Epoch 1/2.. Batch 200.. Train loss: 0.469.. Train acc: 0.792.. Train avg precision: 0.775.. Train avg recall: 0.708.. \n",
      "Epoch 1/2.. Valid loss: 0.431.. Valid avg presision: 0.749.. Valid avg recall: 0.775.. \n",
      "Epoch 1/2.. Batch 300.. Train loss: 0.452.. Train acc: 0.798.. Train avg precision: 0.782.. Train avg recall: 0.715.. \n",
      "Epoch 1/2.. Valid loss: 0.379.. Valid avg presision: 0.829.. Valid avg recall: 0.738.. \n",
      "Epoch 1/2.. Batch 400.. Train loss: 0.438.. Train acc: 0.804.. Train avg precision: 0.788.. Train avg recall: 0.725.. \n",
      "Epoch 1/2.. Valid loss: 0.404.. Valid avg presision: 0.889.. Valid avg recall: 0.598.. \n",
      "Epoch 1/2.. Batch 500.. Train loss: 0.426.. Train acc: 0.811.. Train avg precision: 0.796.. Train avg recall: 0.736.. \n",
      "Epoch 1/2.. Valid loss: 0.364.. Valid avg presision: 0.774.. Valid avg recall: 0.839.. \n",
      "Epoch 1/2.. Batch 600.. Train loss: 0.418.. Train acc: 0.815.. Train avg precision: 0.801.. Train avg recall: 0.739.. \n",
      "Epoch 1/2.. Valid loss: 0.412.. Valid avg presision: 0.805.. Valid avg recall: 0.806.. \n",
      "Epoch 1/2.. Batch 700.. Train loss: 0.412.. Train acc: 0.818.. Train avg precision: 0.804.. Train avg recall: 0.743.. \n",
      "Epoch 1/2.. Valid loss: 0.340.. Valid avg presision: 0.847.. Valid avg recall: 0.768.. \n",
      "Epoch 1/2.. Batch 800.. Train loss: 0.408.. Train acc: 0.820.. Train avg precision: 0.807.. Train avg recall: 0.748.. \n",
      "Epoch 1/2.. Valid loss: 0.356.. Valid avg presision: 0.793.. Valid avg recall: 0.814.. \n",
      "Epoch 1/2.. Batch 900.. Train loss: 0.403.. Train acc: 0.822.. Train avg precision: 0.809.. Train avg recall: 0.750.. \n",
      "Epoch 1/2.. Valid loss: 0.617.. Valid avg presision: 0.682.. Valid avg recall: 0.905.. \n",
      "Epoch 1/2.. Batch 1000.. Train loss: 0.399.. Train acc: 0.824.. Train avg precision: 0.811.. Train avg recall: 0.753.. \n",
      "Epoch 1/2.. Valid loss: 0.329.. Valid avg presision: 0.852.. Valid avg recall: 0.771.. \n",
      "Epoch 1/2.. Batch 1100.. Train loss: 0.393.. Train acc: 0.827.. Train avg precision: 0.814.. Train avg recall: 0.758.. \n",
      "Epoch 1/2.. Valid loss: 0.368.. Valid avg presision: 0.923.. Valid avg recall: 0.662.. \n",
      "Epoch 1/2.. Batch 1200.. Train loss: 0.389.. Train acc: 0.829.. Train avg precision: 0.816.. Train avg recall: 0.760.. \n",
      "Epoch 1/2.. Valid loss: 0.340.. Valid avg presision: 0.793.. Valid avg recall: 0.873.. \n",
      "Epoch 1/2.. Batch 1300.. Train loss: 0.384.. Train acc: 0.832.. Train avg precision: 0.819.. Train avg recall: 0.763.. \n",
      "Epoch 1/2.. Valid loss: 0.326.. Valid avg presision: 0.867.. Valid avg recall: 0.784.. \n",
      "Epoch 1/2.. Batch 1400.. Train loss: 0.381.. Train acc: 0.834.. Train avg precision: 0.821.. Train avg recall: 0.766.. \n",
      "Epoch 1/2.. Valid loss: 0.349.. Valid avg presision: 0.755.. Valid avg recall: 0.877.. \n",
      "Epoch 1/2.. Batch 1500.. Train loss: 0.378.. Train acc: 0.836.. Train avg precision: 0.823.. Train avg recall: 0.769.. \n",
      "Epoch 1/2.. Valid loss: 0.461.. Valid avg presision: 0.688.. Valid avg recall: 0.901.. \n",
      "Epoch 1/2.. Batch 1600.. Train loss: 0.374.. Train acc: 0.838.. Train avg precision: 0.826.. Train avg recall: 0.771.. \n",
      "Epoch 1/2.. Valid loss: 0.342.. Valid avg presision: 0.920.. Valid avg recall: 0.681.. \n",
      "Epoch 1/2.. Batch 1700.. Train loss: 0.370.. Train acc: 0.840.. Train avg precision: 0.828.. Train avg recall: 0.773.. \n",
      "Epoch 1/2.. Valid loss: 0.299.. Valid avg presision: 0.841.. Valid avg recall: 0.837.. \n",
      "Epoch 1/2.. Batch 1800.. Train loss: 0.368.. Train acc: 0.841.. Train avg precision: 0.830.. Train avg recall: 0.775.. \n",
      "Epoch 1/2.. Valid loss: 0.283.. Valid avg presision: 0.840.. Valid avg recall: 0.851.. \n",
      "Epoch 1/2.. Batch 1900.. Train loss: 0.364.. Train acc: 0.843.. Train avg precision: 0.831.. Train avg recall: 0.777.. \n",
      "Epoch 1/2.. Valid loss: 0.304.. Valid avg presision: 0.916.. Valid avg recall: 0.768.. \n",
      "Epoch 1/2.. Batch 2000.. Train loss: 0.361.. Train acc: 0.844.. Train avg precision: 0.833.. Train avg recall: 0.780.. \n",
      "Epoch 1/2.. Valid loss: 0.281.. Valid avg presision: 0.892.. Valid avg recall: 0.798.. \n",
      "Epoch 1/2.. Batch 2100.. Train loss: 0.357.. Train acc: 0.846.. Train avg precision: 0.835.. Train avg recall: 0.783.. \n",
      "Epoch 1/2.. Valid loss: 0.395.. Valid avg presision: 0.850.. Valid avg recall: 0.720.. \n",
      "Epoch 1/2.. Batch 2200.. Train loss: 0.355.. Train acc: 0.847.. Train avg precision: 0.837.. Train avg recall: 0.785.. \n",
      "Epoch 1/2.. Valid loss: 0.311.. Valid avg presision: 0.787.. Valid avg recall: 0.902.. \n",
      "Epoch 1/2.. Batch 2300.. Train loss: 0.352.. Train acc: 0.849.. Train avg precision: 0.838.. Train avg recall: 0.787.. \n",
      "Epoch 1/2.. Valid loss: 0.295.. Valid avg presision: 0.844.. Valid avg recall: 0.840.. \n",
      "Epoch 1/2.. Batch 2400.. Train loss: 0.349.. Train acc: 0.850.. Train avg precision: 0.840.. Train avg recall: 0.788.. \n",
      "Epoch 1/2.. Valid loss: 0.412.. Valid avg presision: 0.903.. Valid avg recall: 0.711.. \n",
      "Epoch 1/2.. Batch 2500.. Train loss: 0.345.. Train acc: 0.852.. Train avg precision: 0.842.. Train avg recall: 0.791.. \n",
      "Epoch 1/2.. Valid loss: 0.348.. Valid avg presision: 0.841.. Valid avg recall: 0.825.. \n",
      "Epoch 1/2.. Batch 2600.. Train loss: 0.343.. Train acc: 0.854.. Train avg precision: 0.844.. Train avg recall: 0.793.. \n",
      "Epoch 1/2.. Valid loss: 0.272.. Valid avg presision: 0.849.. Valid avg recall: 0.864.. \n",
      "Epoch 1/2.. Batch 2700.. Train loss: 0.340.. Train acc: 0.855.. Train avg precision: 0.845.. Train avg recall: 0.795.. \n",
      "Epoch 1/2.. Valid loss: 0.285.. Valid avg presision: 0.948.. Valid avg recall: 0.754.. \n",
      "Epoch 1/2.. Batch 2800.. Train loss: 0.337.. Train acc: 0.856.. Train avg precision: 0.847.. Train avg recall: 0.797.. \n",
      "Epoch 1/2.. Valid loss: 0.277.. Valid avg presision: 0.880.. Valid avg recall: 0.813.. \n",
      "Epoch 1/2.. Batch 2900.. Train loss: 0.334.. Train acc: 0.858.. Train avg precision: 0.848.. Train avg recall: 0.799.. \n",
      "Epoch 1/2.. Valid loss: 0.460.. Valid avg presision: 0.979.. Valid avg recall: 0.522.. \n",
      "Epoch 1/2.. Batch 3000.. Train loss: 0.331.. Train acc: 0.859.. Train avg precision: 0.850.. Train avg recall: 0.801.. \n",
      "Epoch 1/2.. Valid loss: 0.239.. Valid avg presision: 0.914.. Valid avg recall: 0.840.. \n",
      "Epoch 1/2.. Batch 3100.. Train loss: 0.329.. Train acc: 0.860.. Train avg precision: 0.852.. Train avg recall: 0.803.. \n",
      "Epoch 1/2.. Valid loss: 0.365.. Valid avg presision: 0.735.. Valid avg recall: 0.936.. \n",
      "Epoch 1/2.. Batch 3200.. Train loss: 0.326.. Train acc: 0.862.. Train avg precision: 0.853.. Train avg recall: 0.804.. \n",
      "Epoch 1/2.. Valid loss: 0.276.. Valid avg presision: 0.852.. Valid avg recall: 0.865.. \n",
      "Epoch 2/2.. Batch 1.. Train loss: 0.325.. Train acc: 0.862.. Train avg precision: 0.854.. Train avg recall: 0.805.. \n",
      "Epoch 2/2.. Valid loss: 0.359.. Valid avg presision: 0.762.. Valid avg recall: 0.905.. \n",
      "Epoch 2/2.. Batch 100.. Train loss: 0.323.. Train acc: 0.863.. Train avg precision: 0.856.. Train avg recall: 0.806.. \n",
      "Epoch 2/2.. Valid loss: 0.225.. Valid avg presision: 0.907.. Valid avg recall: 0.855.. \n",
      "Epoch 2/2.. Batch 200.. Train loss: 0.321.. Train acc: 0.864.. Train avg precision: 0.857.. Train avg recall: 0.808.. \n",
      "Epoch 2/2.. Valid loss: 0.270.. Valid avg presision: 0.940.. Valid avg recall: 0.772.. \n",
      "Epoch 2/2.. Batch 300.. Train loss: 0.319.. Train acc: 0.865.. Train avg precision: 0.858.. Train avg recall: 0.810.. \n",
      "Epoch 2/2.. Valid loss: 0.261.. Valid avg presision: 0.830.. Valid avg recall: 0.910.. \n",
      "Epoch 2/2.. Batch 400.. Train loss: 0.317.. Train acc: 0.867.. Train avg precision: 0.859.. Train avg recall: 0.811.. \n",
      "Epoch 2/2.. Valid loss: 0.324.. Valid avg presision: 0.944.. Valid avg recall: 0.702.. \n",
      "Epoch 2/2.. Batch 500.. Train loss: 0.314.. Train acc: 0.868.. Train avg precision: 0.861.. Train avg recall: 0.812.. \n",
      "Epoch 2/2.. Valid loss: 0.234.. Valid avg presision: 0.863.. Valid avg recall: 0.906.. \n",
      "Epoch 2/2.. Batch 600.. Train loss: 0.312.. Train acc: 0.869.. Train avg precision: 0.862.. Train avg recall: 0.814.. \n",
      "Epoch 2/2.. Valid loss: 0.234.. Valid avg presision: 0.901.. Valid avg recall: 0.855.. \n",
      "Epoch 2/2.. Batch 700.. Train loss: 0.310.. Train acc: 0.870.. Train avg precision: 0.863.. Train avg recall: 0.815.. \n",
      "Epoch 2/2.. Valid loss: 0.250.. Valid avg presision: 0.841.. Valid avg recall: 0.915.. \n",
      "Epoch 2/2.. Batch 800.. Train loss: 0.308.. Train acc: 0.871.. Train avg precision: 0.864.. Train avg recall: 0.817.. \n",
      "Epoch 2/2.. Valid loss: 0.337.. Valid avg presision: 0.967.. Valid avg recall: 0.674.. \n",
      "Epoch 2/2.. Batch 900.. Train loss: 0.306.. Train acc: 0.872.. Train avg precision: 0.865.. Train avg recall: 0.818.. \n",
      "Epoch 2/2.. Valid loss: 0.226.. Valid avg presision: 0.935.. Valid avg recall: 0.837.. \n",
      "Epoch 2/2.. Batch 1000.. Train loss: 0.304.. Train acc: 0.873.. Train avg precision: 0.866.. Train avg recall: 0.819.. \n",
      "Epoch 2/2.. Valid loss: 0.624.. Valid avg presision: 0.950.. Valid avg recall: 0.590.. \n",
      "Epoch 2/2.. Batch 1100.. Train loss: 0.303.. Train acc: 0.874.. Train avg precision: 0.867.. Train avg recall: 0.821.. \n",
      "Epoch 2/2.. Valid loss: 0.225.. Valid avg presision: 0.885.. Valid avg recall: 0.881.. \n",
      "Epoch 2/2.. Batch 1200.. Train loss: 0.301.. Train acc: 0.874.. Train avg precision: 0.868.. Train avg recall: 0.822.. \n",
      "Epoch 2/2.. Valid loss: 0.234.. Valid avg presision: 0.952.. Valid avg recall: 0.795.. \n",
      "Epoch 2/2.. Batch 1300.. Train loss: 0.299.. Train acc: 0.875.. Train avg precision: 0.869.. Train avg recall: 0.823.. \n",
      "Epoch 2/2.. Valid loss: 0.257.. Valid avg presision: 0.850.. Valid avg recall: 0.890.. \n",
      "Epoch 2/2.. Batch 1400.. Train loss: 0.297.. Train acc: 0.876.. Train avg precision: 0.870.. Train avg recall: 0.824.. \n",
      "Epoch 2/2.. Valid loss: 0.297.. Valid avg presision: 0.961.. Valid avg recall: 0.743.. \n",
      "Epoch 2/2.. Batch 1500.. Train loss: 0.295.. Train acc: 0.877.. Train avg precision: 0.871.. Train avg recall: 0.825.. \n",
      "Epoch 2/2.. Valid loss: 0.278.. Valid avg presision: 0.972.. Valid avg recall: 0.736.. \n",
      "Epoch 2/2.. Batch 1600.. Train loss: 0.294.. Train acc: 0.878.. Train avg precision: 0.872.. Train avg recall: 0.826.. \n",
      "Epoch 2/2.. Valid loss: 0.248.. Valid avg presision: 0.932.. Valid avg recall: 0.803.. \n",
      "Epoch 2/2.. Batch 1700.. Train loss: 0.292.. Train acc: 0.879.. Train avg precision: 0.873.. Train avg recall: 0.827.. \n",
      "Epoch 2/2.. Valid loss: 0.468.. Valid avg presision: 0.951.. Valid avg recall: 0.630.. \n",
      "Epoch 2/2.. Batch 1800.. Train loss: 0.291.. Train acc: 0.879.. Train avg precision: 0.873.. Train avg recall: 0.828.. \n",
      "Epoch 2/2.. Valid loss: 0.200.. Valid avg presision: 0.896.. Valid avg recall: 0.897.. \n",
      "Epoch 2/2.. Batch 1900.. Train loss: 0.289.. Train acc: 0.880.. Train avg precision: 0.874.. Train avg recall: 0.829.. \n",
      "Epoch 2/2.. Valid loss: 0.240.. Valid avg presision: 0.927.. Valid avg recall: 0.823.. \n",
      "Epoch 2/2.. Batch 2000.. Train loss: 0.288.. Train acc: 0.881.. Train avg precision: 0.875.. Train avg recall: 0.830.. \n",
      "Epoch 2/2.. Valid loss: 0.287.. Valid avg presision: 0.940.. Valid avg recall: 0.784.. \n",
      "Epoch 2/2.. Batch 2100.. Train loss: 0.287.. Train acc: 0.881.. Train avg precision: 0.875.. Train avg recall: 0.831.. \n",
      "Epoch 2/2.. Valid loss: 0.225.. Valid avg presision: 0.868.. Valid avg recall: 0.906.. \n",
      "Epoch 2/2.. Batch 2200.. Train loss: 0.285.. Train acc: 0.882.. Train avg precision: 0.876.. Train avg recall: 0.832.. \n",
      "Epoch 2/2.. Valid loss: 0.213.. Valid avg presision: 0.878.. Valid avg recall: 0.907.. \n",
      "Epoch 2/2.. Batch 2300.. Train loss: 0.284.. Train acc: 0.882.. Train avg precision: 0.877.. Train avg recall: 0.833.. \n",
      "Epoch 2/2.. Valid loss: 0.188.. Valid avg presision: 0.932.. Valid avg recall: 0.877.. \n",
      "Epoch 2/2.. Batch 2400.. Train loss: 0.283.. Train acc: 0.883.. Train avg precision: 0.878.. Train avg recall: 0.834.. \n",
      "Epoch 2/2.. Valid loss: 0.202.. Valid avg presision: 0.916.. Valid avg recall: 0.885.. \n",
      "Epoch 2/2.. Batch 2500.. Train loss: 0.281.. Train acc: 0.884.. Train avg precision: 0.878.. Train avg recall: 0.835.. \n",
      "Epoch 2/2.. Valid loss: 0.203.. Valid avg presision: 0.944.. Valid avg recall: 0.850.. \n",
      "Epoch 2/2.. Batch 2600.. Train loss: 0.280.. Train acc: 0.884.. Train avg precision: 0.879.. Train avg recall: 0.835.. \n",
      "Epoch 2/2.. Valid loss: 0.293.. Valid avg presision: 0.966.. Valid avg recall: 0.730.. \n",
      "Epoch 2/2.. Batch 2700.. Train loss: 0.279.. Train acc: 0.885.. Train avg precision: 0.880.. Train avg recall: 0.836.. \n",
      "Epoch 2/2.. Valid loss: 0.194.. Valid avg presision: 0.919.. Valid avg recall: 0.883.. \n",
      "Epoch 2/2.. Batch 2800.. Train loss: 0.278.. Train acc: 0.885.. Train avg precision: 0.880.. Train avg recall: 0.837.. \n",
      "Epoch 2/2.. Valid loss: 0.189.. Valid avg presision: 0.930.. Valid avg recall: 0.876.. \n",
      "Epoch 2/2.. Batch 2900.. Train loss: 0.277.. Train acc: 0.886.. Train avg precision: 0.881.. Train avg recall: 0.838.. \n",
      "Epoch 2/2.. Valid loss: 0.231.. Valid avg presision: 0.866.. Valid avg recall: 0.907.. \n",
      "Epoch 2/2.. Batch 3000.. Train loss: 0.275.. Train acc: 0.887.. Train avg precision: 0.882.. Train avg recall: 0.838.. \n",
      "Epoch 2/2.. Valid loss: 0.267.. Valid avg presision: 0.807.. Valid avg recall: 0.940.. \n",
      "Epoch 2/2.. Batch 3100.. Train loss: 0.274.. Train acc: 0.887.. Train avg precision: 0.882.. Train avg recall: 0.839.. \n",
      "Epoch 2/2.. Valid loss: 0.209.. Valid avg presision: 0.867.. Valid avg recall: 0.924.. \n",
      "Epoch 2/2.. Batch 3200.. Train loss: 0.273.. Train acc: 0.888.. Train avg precision: 0.883.. Train avg recall: 0.840.. \n",
      "Epoch 2/2.. Valid loss: 0.200.. Valid avg presision: 0.882.. Valid avg recall: 0.928.. \n"
     ]
    }
   ],
   "source": [
    "## USE GPU ##\n",
    "model = model.cuda()\n",
    "\n",
    "optimizer = torch.optim.Adam(model.parameters())\n",
    "criterion = torch.nn.BCELoss()\n",
    "\n",
    "print_every = 100\n",
    "\n",
    "loss_sum = 0\n",
    "correct_sum = 0\n",
    "samples = 0\n",
    "sum_precision = 0\n",
    "sum_recall = 0\n",
    "valid_count = 0\n",
    "total_train_batch = 0\n",
    "\n",
    "\n",
    "\n",
    "train_metrics = []\n",
    "valid_metrics = []\n",
    "\n",
    "for epoch in range(epochs):\n",
    "    ## Training\n",
    "    batch = 1\n",
    "    model.train()\n",
    "    for x, y in train_loader:\n",
    "        \n",
    "        total_train_batch += 1\n",
    "        x = x.cuda()\n",
    "        y = y.cuda()\n",
    "        y = y.view(-1, 1).float()\n",
    "        \n",
    "        optimizer.zero_grad()\n",
    "        output = model(x)\n",
    "\n",
    "        loss = criterion(output, y)\n",
    "        loss.backward()\n",
    "        optimizer.step()\n",
    "        \n",
    "        samples += x.shape[0]\n",
    "        loss_sum += loss.item() * x.shape[0] \n",
    "        y_pred = (output >= 0.5).float()\n",
    "        num_corrects = torch.sum(y_pred == y)\n",
    "        correct_sum += num_corrects\n",
    "  \n",
    "        precision = precision_score(y.to('cpu'), y_pred.to('cpu'))\n",
    "        recall = recall_score(y.to('cpu'), y_pred.to('cpu'))\n",
    "        sum_precision += precision\n",
    "        sum_recall += recall\n",
    "        \n",
    "        if batch % 500 == 0:\n",
    "            torch.save(model.state_dict(), 'checkpoint_{0}.pth'.format(batch))\n",
    "            \n",
    "        if (batch % print_every == 0) or (batch == 1):\n",
    "            train_loss = float(loss_sum)/float(samples)\n",
    "            train_acc = float(correct_sum)/float(samples)\n",
    "            train_prec = float(sum_precision)/float(total_train_batch)\n",
    "            train_rec = float(sum_recall)/float(total_train_batch)\n",
    "            train_metrics.append([epoch+1, total_train_batch, train_loss, train_acc, train_prec, train_rec])\n",
    "            \n",
    "            print(f\"Epoch {epoch+1}/{epochs}.. \"\n",
    "                  f\"Batch {batch}.. \"\n",
    "                  f\"Train loss: {train_loss:.3f}.. \"\n",
    "                  f\"Train acc: {train_acc:.3f}.. \"\n",
    "                  f\"Train avg precision: {train_prec:.3f}.. \"\n",
    "                  f\"Train avg recall: {train_rec:.3f}.. \")\n",
    "            \n",
    "            model.eval()\n",
    "            with torch.no_grad():\n",
    "                val_loss_sum = 0\n",
    "                val_precision_sum = 0\n",
    "                val_recall_sum = 0\n",
    "                val_samples = 0\n",
    "                val_batch = 1\n",
    "                \n",
    "                for x_val, y_val in valid_loader:\n",
    "                    x_val = x_val.cuda()\n",
    "                    y_val = y_val.cuda()\n",
    "                    y_val = y_val.view(-1, 1).float()\n",
    "\n",
    "                    output_val = model(x_val)\n",
    "                    loss_val = criterion(output_val, y_val)\n",
    "                    y_val_pred = (output_val >= 0.5).float()\n",
    "\n",
    "                    val_samples += x_val.shape[0]\n",
    "                    val_loss_sum += loss_val.item() * x_val.shape[0]\n",
    "\n",
    "                    val_precision = precision_score(y_val.to('cpu'), y_val_pred.to('cpu'))\n",
    "                    val_recall = recall_score(y_val.to('cpu'), y_val_pred.to('cpu'))\n",
    "                    val_precision_sum += val_precision\n",
    "                    val_recall_sum += val_recall\n",
    "                    val_batch+=1\n",
    "\n",
    "\n",
    "                val = float(val_loss_sum)/float(val_samples)\n",
    "                prec = float(val_precision_sum)/float(val_batch)\n",
    "                rec = float(val_recall_sum)/float(val_batch)\n",
    "\n",
    "                valid_metrics.append([epoch+1, val, prec, rec])\n",
    "                        \n",
    "                print(f\"Epoch {epoch+1}/{epochs}.. \"\n",
    "                      f\"Valid loss: {val:.3f}.. \"\n",
    "                      f\"Valid avg presision: {prec:.3f}.. \"\n",
    "                      f\"Valid avg recall: {rec:.3f}.. \")\n",
    "            model.train()\n",
    "                \n",
    "            \n",
    "        batch +=1\n"
   ]
  },
  {
   "cell_type": "code",
   "execution_count": 22,
   "metadata": {},
   "outputs": [],
   "source": [
    "torch.save(model.state_dict(), 'checkpoint_final_20200309.pth')"
   ]
  },
  {
   "cell_type": "code",
   "execution_count": 23,
   "metadata": {},
   "outputs": [],
   "source": [
    "np.save(\"train_metrics\", train_metrics)\n",
    "np.save(\"valid_metrics\", valid_metrics)"
   ]
  },
  {
   "cell_type": "code",
   "execution_count": 66,
   "metadata": {},
   "outputs": [],
   "source": [
    "np.save(\"train_index\", train_index)\n",
    "np.save(\"validation_index\", validation_index)\n",
    "np.save(\"test_index\", test_index)"
   ]
  },
  {
   "cell_type": "markdown",
   "metadata": {},
   "source": [
    "## Model Evaluation"
   ]
  },
  {
   "cell_type": "code",
   "execution_count": 30,
   "metadata": {},
   "outputs": [],
   "source": [
    "train_metrics = np.array(train_metrics)"
   ]
  },
  {
   "cell_type": "code",
   "execution_count": 41,
   "metadata": {},
   "outputs": [],
   "source": [
    "valid_metrics = np.array(valid_metrics)"
   ]
  },
  {
   "cell_type": "code",
   "execution_count": 72,
   "metadata": {},
   "outputs": [],
   "source": [
    "metrics = pd.DataFrame(train_metrics, \n",
    "                       columns=[\"epoch\", \"batch\", \"loss\", \"accuracy\",\n",
    "                                \"Avg. Precision\", \"Avg. Recall\"])"
   ]
  },
  {
   "cell_type": "code",
   "execution_count": 73,
   "metadata": {},
   "outputs": [],
   "source": [
    "metrics[\"valid_loss\"] = valid_metrics[:,1]\n",
    "metrics[\"Avg. Valid. Presision\"] = valid_metrics[:,2]\n",
    "metrics[\"Avg. Valid Recall\"] = valid_metrics[:,3]"
   ]
  },
  {
   "cell_type": "code",
   "execution_count": 74,
   "metadata": {},
   "outputs": [
    {
     "data": {
      "text/html": [
       "<div>\n",
       "<style scoped>\n",
       "    .dataframe tbody tr th:only-of-type {\n",
       "        vertical-align: middle;\n",
       "    }\n",
       "\n",
       "    .dataframe tbody tr th {\n",
       "        vertical-align: top;\n",
       "    }\n",
       "\n",
       "    .dataframe thead th {\n",
       "        text-align: right;\n",
       "    }\n",
       "</style>\n",
       "<table border=\"1\" class=\"dataframe\">\n",
       "  <thead>\n",
       "    <tr style=\"text-align: right;\">\n",
       "      <th></th>\n",
       "      <th>epoch</th>\n",
       "      <th>batch</th>\n",
       "      <th>loss</th>\n",
       "      <th>accuracy</th>\n",
       "      <th>Avg. Precision</th>\n",
       "      <th>Avg. Recall</th>\n",
       "      <th>valid_loss</th>\n",
       "      <th>Avg. Valid. Presision</th>\n",
       "      <th>Avg. Valid Recall</th>\n",
       "    </tr>\n",
       "  </thead>\n",
       "  <tbody>\n",
       "    <tr>\n",
       "      <th>0</th>\n",
       "      <td>1.0</td>\n",
       "      <td>1.0</td>\n",
       "      <td>0.681884</td>\n",
       "      <td>0.515625</td>\n",
       "      <td>0.000000</td>\n",
       "      <td>0.000000</td>\n",
       "      <td>10.995147</td>\n",
       "      <td>0.000000</td>\n",
       "      <td>0.000000</td>\n",
       "    </tr>\n",
       "    <tr>\n",
       "      <th>1</th>\n",
       "      <td>1.0</td>\n",
       "      <td>100.0</td>\n",
       "      <td>0.510069</td>\n",
       "      <td>0.777344</td>\n",
       "      <td>0.765483</td>\n",
       "      <td>0.683180</td>\n",
       "      <td>0.449547</td>\n",
       "      <td>0.856393</td>\n",
       "      <td>0.563722</td>\n",
       "    </tr>\n",
       "    <tr>\n",
       "      <th>2</th>\n",
       "      <td>1.0</td>\n",
       "      <td>200.0</td>\n",
       "      <td>0.468627</td>\n",
       "      <td>0.791641</td>\n",
       "      <td>0.775397</td>\n",
       "      <td>0.707732</td>\n",
       "      <td>0.431058</td>\n",
       "      <td>0.749245</td>\n",
       "      <td>0.774731</td>\n",
       "    </tr>\n",
       "    <tr>\n",
       "      <th>3</th>\n",
       "      <td>1.0</td>\n",
       "      <td>300.0</td>\n",
       "      <td>0.452065</td>\n",
       "      <td>0.797604</td>\n",
       "      <td>0.781523</td>\n",
       "      <td>0.715224</td>\n",
       "      <td>0.379193</td>\n",
       "      <td>0.828806</td>\n",
       "      <td>0.737856</td>\n",
       "    </tr>\n",
       "    <tr>\n",
       "      <th>4</th>\n",
       "      <td>1.0</td>\n",
       "      <td>400.0</td>\n",
       "      <td>0.438013</td>\n",
       "      <td>0.804375</td>\n",
       "      <td>0.788064</td>\n",
       "      <td>0.724860</td>\n",
       "      <td>0.404495</td>\n",
       "      <td>0.889267</td>\n",
       "      <td>0.598033</td>\n",
       "    </tr>\n",
       "  </tbody>\n",
       "</table>\n",
       "</div>"
      ],
      "text/plain": [
       "   epoch  batch      loss  accuracy  Avg. Precision  Avg. Recall  valid_loss  \\\n",
       "0    1.0    1.0  0.681884  0.515625        0.000000     0.000000   10.995147   \n",
       "1    1.0  100.0  0.510069  0.777344        0.765483     0.683180    0.449547   \n",
       "2    1.0  200.0  0.468627  0.791641        0.775397     0.707732    0.431058   \n",
       "3    1.0  300.0  0.452065  0.797604        0.781523     0.715224    0.379193   \n",
       "4    1.0  400.0  0.438013  0.804375        0.788064     0.724860    0.404495   \n",
       "\n",
       "   Avg. Valid. Presision  Avg. Valid Recall  \n",
       "0               0.000000           0.000000  \n",
       "1               0.856393           0.563722  \n",
       "2               0.749245           0.774731  \n",
       "3               0.828806           0.737856  \n",
       "4               0.889267           0.598033  "
      ]
     },
     "execution_count": 74,
     "metadata": {},
     "output_type": "execute_result"
    }
   ],
   "source": [
    "metrics.head()"
   ]
  },
  {
   "cell_type": "markdown",
   "metadata": {},
   "source": [
    "### Training Metrics"
   ]
  },
  {
   "cell_type": "code",
   "execution_count": 75,
   "metadata": {},
   "outputs": [
    {
     "data": {
      "text/plain": [
       "<matplotlib.axes._subplots.AxesSubplot at 0x7f126cd28100>"
      ]
     },
     "execution_count": 75,
     "metadata": {},
     "output_type": "execute_result"
    },
    {
     "data": {
      "image/png": "[encoded data removed]",
      "text/plain": [
       "<Figure size 432x288 with 1 Axes>"
      ]
     },
     "metadata": {
      "needs_background": "light"
     },
     "output_type": "display_data"
    }
   ],
   "source": [
    "sns.lineplot(y=\"loss\", x=\"batch\", label='loss', data=metrics)\n",
    "sns.lineplot(y=\"accuracy\", x=\"batch\", label='accuracy', data=metrics)"
   ]
  },
  {
   "cell_type": "code",
   "execution_count": 76,
   "metadata": {},
   "outputs": [
    {
     "data": {
      "text/plain": [
       "<matplotlib.axes._subplots.AxesSubplot at 0x7f126cc11430>"
      ]
     },
     "execution_count": 76,
     "metadata": {},
     "output_type": "execute_result"
    },
    {
     "data": {
      "image/png": "[encoded data removed]",
      "text/plain": [
       "<Figure size 432x288 with 1 Axes>"
      ]
     },
     "metadata": {
      "needs_background": "light"
     },
     "output_type": "display_data"
    }
   ],
   "source": [
    "sns.lineplot(y=\"Avg. Precision\", x=\"batch\", label='Precision', data=metrics)\n",
    "sns.lineplot(y=\"Avg. Recall\", x=\"batch\", label='Recall', data=metrics)"
   ]
  },
  {
   "cell_type": "markdown",
   "metadata": {},
   "source": [
    "### Validation Metrics"
   ]
  },
  {
   "cell_type": "code",
   "execution_count": 58,
   "metadata": {},
   "outputs": [
    {
     "data": {
      "text/plain": [
       "<matplotlib.axes._subplots.AxesSubplot at 0x7f126eb7b460>"
      ]
     },
     "execution_count": 58,
     "metadata": {},
     "output_type": "execute_result"
    },
    {
     "data": {
      "image/png": "[encoded data removed]",
      "text/plain": [
       "<Figure size 432x288 with 1 Axes>"
      ]
     },
     "metadata": {
      "needs_background": "light"
     },
     "output_type": "display_data"
    }
   ],
   "source": [
    "sns.lineplot(y=\"valid_loss\", x=\"batch\", data=metrics)"
   ]
  },
  {
   "cell_type": "markdown",
   "metadata": {},
   "source": [
    "# TEST MODEL PREDICTIONS"
   ]
  },
  {
   "cell_type": "code",
   "execution_count": null,
   "metadata": {},
   "outputs": [],
   "source": [
    "model_test = torchvision.models.resnet34(pretrained=False)"
   ]
  },
  {
   "cell_type": "code",
   "execution_count": null,
   "metadata": {},
   "outputs": [],
   "source": [
    "model_test.fc = torch.nn.Sequential(\n",
    "    torch.nn.Linear(in_features=512, out_features=1),\n",
    "    torch.nn.Sigmoid()\n",
    ")"
   ]
  },
  {
   "cell_type": "code",
   "execution_count": null,
   "metadata": {},
   "outputs": [],
   "source": [
    "model_test.load_state_dict(torch.load(\"checkpoint_final_20200309.pth))"
   ]
  },
  {
   "cell_type": "markdown",
   "metadata": {},
   "source": [
    "### Test dataloader"
   ]
  },
  {
   "cell_type": "code",
   "execution_count": null,
   "metadata": {},
   "outputs": [],
   "source": [
    "test_labels = train_labels[train_labels.index.isin(validation_index)]"
   ]
  },
  {
   "cell_type": "code",
   "execution_count": null,
   "metadata": {},
   "outputs": [],
   "source": [
    "test_data = DataGenerator_test(test_labels, transform=transform)\n",
    "test_loader = data.DataLoader(test_data, batch_size=batch_size, \n",
    "                              sampler=data.Subset(validation_index))"
   ]
  },
  {
   "cell_type": "code",
   "execution_count": null,
   "metadata": {},
   "outputs": [],
   "source": [
    "len(test_loader)"
   ]
  },
  {
   "cell_type": "code",
   "execution_count": null,
   "metadata": {},
   "outputs": [],
   "source": [
    "## USE GPU\n",
    "model_test = model_test.cuda()\n",
    "\n",
    "predictions = []\n",
    "model_test.eval()\n",
    "total_test_batches = len(test_loader)\n",
    "img_ids = []\n",
    "for x,y, ids in tqdm(test_loader, total = total_test_batches):\n",
    "    x = x.cuda()\n",
    "    y = y.cuda()\n",
    "    y = y.view(-1, 1).float()\n",
    "    img_ids.append(ids)\n",
    "    \n",
    "    with torch.no_grad():\n",
    "        out = model_test(x)\n",
    "        predictions.append((out >= 0.5).float().cpu().numpy())"
   ]
  },
  {
   "cell_type": "code",
   "execution_count": null,
   "metadata": {},
   "outputs": [],
   "source": [
    "y_hat = []\n",
    "for i in range(len(predictions)):\n",
    "    for val in predictions[i]:\n",
    "        y_hat.append(int(val[0]))\n",
    "        \n",
    "img_pred_id = []\n",
    "for i in range(len(img_ids)):\n",
    "    for val in img_ids[i]:\n",
    "        img_pred_id.append(val)"
   ]
  },
  {
   "cell_type": "code",
   "execution_count": null,
   "metadata": {},
   "outputs": [],
   "source": [
    "img_pred_id[0]"
   ]
  },
  {
   "cell_type": "code",
   "execution_count": null,
   "metadata": {},
   "outputs": [],
   "source": [
    "test_labels[test_labels.id == '49eb20a0608511777074a59d62610fd63a2229bf']"
   ]
  },
  {
   "cell_type": "code",
   "execution_count": null,
   "metadata": {},
   "outputs": [],
   "source": []
  }
 ],
 "metadata": {
  "kernelspec": {
   "display_name": "Python 3",
   "language": "python",
   "name": "python3"
  },
  "language_info": {
   "codemirror_mode": {
    "name": "ipython",
    "version": 3
   },
   "file_extension": ".py",
   "mimetype": "text/x-python",
   "name": "python",
   "nbconvert_exporter": "python",
   "pygments_lexer": "ipython3",
   "version": "3.8.1"
  }
 },
 "nbformat": 4,
 "nbformat_minor": 4
}
